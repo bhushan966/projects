{
 "cells": [
  {
   "cell_type": "markdown",
   "id": "bf160f7a",
   "metadata": {},
   "source": [
    "# EXPLORATORY DATA ANALYSIS ON CALL CENTER"
   ]
  },
  {
   "cell_type": "markdown",
   "id": "12a1da6f",
   "metadata": {},
   "source": [
    "Problem Statement :\n",
    "RBS Board has hired services of Brent Associates to audit its accounts and the auditors have sought pay-out details to CallIn PLC. You are working with Brent Associates as data analyst and have been called in the team to render your services and investigate inconsistencies, if any. All information was tallied but the pay-outs given to CallIn PLC for the month of February 1999 were suspiciously incorrect and hence your major task is to audit this information and assess if payout has been accurately done and state exchequer has not been cheated upon.\n"
   ]
  },
  {
   "cell_type": "code",
   "execution_count": 1,
   "id": "998f8fc8",
   "metadata": {},
   "outputs": [],
   "source": [
    "import pandas as pd"
   ]
  },
  {
   "cell_type": "code",
   "execution_count": 2,
   "id": "674fb434",
   "metadata": {},
   "outputs": [],
   "source": [
    "df=pd.read_csv('february_data.csv')"
   ]
  },
  {
   "cell_type": "code",
   "execution_count": 3,
   "id": "73481838",
   "metadata": {},
   "outputs": [
    {
     "data": {
      "text/html": [
       "<div>\n",
       "<style scoped>\n",
       "    .dataframe tbody tr th:only-of-type {\n",
       "        vertical-align: middle;\n",
       "    }\n",
       "\n",
       "    .dataframe tbody tr th {\n",
       "        vertical-align: top;\n",
       "    }\n",
       "\n",
       "    .dataframe thead th {\n",
       "        text-align: right;\n",
       "    }\n",
       "</style>\n",
       "<table border=\"1\" class=\"dataframe\">\n",
       "  <thead>\n",
       "    <tr style=\"text-align: right;\">\n",
       "      <th></th>\n",
       "      <th>vru+line</th>\n",
       "      <th>call_id</th>\n",
       "      <th>customer_id</th>\n",
       "      <th>priority</th>\n",
       "      <th>type</th>\n",
       "      <th>date</th>\n",
       "      <th>vru_entry</th>\n",
       "      <th>vru_exit</th>\n",
       "      <th>q_start</th>\n",
       "      <th>q_exit</th>\n",
       "      <th>outcome</th>\n",
       "      <th>ser_start</th>\n",
       "      <th>ser_exit</th>\n",
       "      <th>server</th>\n",
       "    </tr>\n",
       "  </thead>\n",
       "  <tbody>\n",
       "    <tr>\n",
       "      <th>0</th>\n",
       "      <td>AA0101</td>\n",
       "      <td>34536</td>\n",
       "      <td>0.0</td>\n",
       "      <td>0</td>\n",
       "      <td>PS</td>\n",
       "      <td>990201</td>\n",
       "      <td>07:02:47</td>\n",
       "      <td>07:02:56</td>\n",
       "      <td>00:00:00</td>\n",
       "      <td>00:00:00</td>\n",
       "      <td>AGENT</td>\n",
       "      <td>07:02:55</td>\n",
       "      <td>07:05:41</td>\n",
       "      <td>DORIT</td>\n",
       "    </tr>\n",
       "    <tr>\n",
       "      <th>1</th>\n",
       "      <td>AA0101</td>\n",
       "      <td>34537</td>\n",
       "      <td>0.0</td>\n",
       "      <td>0</td>\n",
       "      <td>PS</td>\n",
       "      <td>990201</td>\n",
       "      <td>07:31:45</td>\n",
       "      <td>07:31:55</td>\n",
       "      <td>00:00:00</td>\n",
       "      <td>00:00:00</td>\n",
       "      <td>AGENT</td>\n",
       "      <td>07:31:54</td>\n",
       "      <td>07:31:59</td>\n",
       "      <td>NO_SERVER</td>\n",
       "    </tr>\n",
       "    <tr>\n",
       "      <th>2</th>\n",
       "      <td>AA0101</td>\n",
       "      <td>34538</td>\n",
       "      <td>0.0</td>\n",
       "      <td>0</td>\n",
       "      <td>NW</td>\n",
       "      <td>990201</td>\n",
       "      <td>07:54:38</td>\n",
       "      <td>07:54:51</td>\n",
       "      <td>00:00:00</td>\n",
       "      <td>00:00:00</td>\n",
       "      <td>AGENT</td>\n",
       "      <td>07:54:49</td>\n",
       "      <td>07:56:21</td>\n",
       "      <td>TOVA</td>\n",
       "    </tr>\n",
       "    <tr>\n",
       "      <th>3</th>\n",
       "      <td>AA0101</td>\n",
       "      <td>34539</td>\n",
       "      <td>23317894.0</td>\n",
       "      <td>2</td>\n",
       "      <td>PS</td>\n",
       "      <td>990201</td>\n",
       "      <td>08:09:16</td>\n",
       "      <td>08:09:22</td>\n",
       "      <td>08:09:22</td>\n",
       "      <td>08:09:27</td>\n",
       "      <td>HANG</td>\n",
       "      <td>00:00:00</td>\n",
       "      <td>00:00:00</td>\n",
       "      <td>NO_SERVER</td>\n",
       "    </tr>\n",
       "    <tr>\n",
       "      <th>4</th>\n",
       "      <td>AA0101</td>\n",
       "      <td>34540</td>\n",
       "      <td>48178511.0</td>\n",
       "      <td>2</td>\n",
       "      <td>PS</td>\n",
       "      <td>990201</td>\n",
       "      <td>08:19:42</td>\n",
       "      <td>08:19:47</td>\n",
       "      <td>08:19:47</td>\n",
       "      <td>08:20:21</td>\n",
       "      <td>AGENT</td>\n",
       "      <td>08:20:20</td>\n",
       "      <td>08:22:04</td>\n",
       "      <td>MICHAL</td>\n",
       "    </tr>\n",
       "  </tbody>\n",
       "</table>\n",
       "</div>"
      ],
      "text/plain": [
       "  vru+line  call_id  customer_id  priority type    date vru_entry  vru_exit  \\\n",
       "0   AA0101    34536          0.0         0   PS  990201  07:02:47  07:02:56   \n",
       "1   AA0101    34537          0.0         0   PS  990201  07:31:45  07:31:55   \n",
       "2   AA0101    34538          0.0         0   NW  990201  07:54:38  07:54:51   \n",
       "3   AA0101    34539   23317894.0         2   PS  990201  08:09:16  08:09:22   \n",
       "4   AA0101    34540   48178511.0         2   PS  990201  08:19:42  08:19:47   \n",
       "\n",
       "    q_start    q_exit outcome ser_start  ser_exit     server  \n",
       "0  00:00:00  00:00:00   AGENT  07:02:55  07:05:41      DORIT  \n",
       "1  00:00:00  00:00:00   AGENT  07:31:54  07:31:59  NO_SERVER  \n",
       "2  00:00:00  00:00:00   AGENT  07:54:49  07:56:21       TOVA  \n",
       "3  08:09:22  08:09:27    HANG  00:00:00  00:00:00  NO_SERVER  \n",
       "4  08:19:47  08:20:21   AGENT  08:20:20  08:22:04     MICHAL  "
      ]
     },
     "execution_count": 3,
     "metadata": {},
     "output_type": "execute_result"
    }
   ],
   "source": [
    "df.head()"
   ]
  },
  {
   "cell_type": "code",
   "execution_count": 4,
   "id": "7b94bc23",
   "metadata": {},
   "outputs": [
    {
     "data": {
      "text/plain": [
       "(33344, 14)"
      ]
     },
     "execution_count": 4,
     "metadata": {},
     "output_type": "execute_result"
    }
   ],
   "source": [
    "df.shape"
   ]
  },
  {
   "cell_type": "code",
   "execution_count": 5,
   "id": "cb97ba5c",
   "metadata": {},
   "outputs": [
    {
     "data": {
      "text/plain": [
       "0"
      ]
     },
     "execution_count": 5,
     "metadata": {},
     "output_type": "execute_result"
    }
   ],
   "source": [
    "df.isnull().sum().sum()"
   ]
  },
  {
   "cell_type": "code",
   "execution_count": 6,
   "id": "3743570d",
   "metadata": {},
   "outputs": [
    {
     "data": {
      "text/html": [
       "<div>\n",
       "<style scoped>\n",
       "    .dataframe tbody tr th:only-of-type {\n",
       "        vertical-align: middle;\n",
       "    }\n",
       "\n",
       "    .dataframe tbody tr th {\n",
       "        vertical-align: top;\n",
       "    }\n",
       "\n",
       "    .dataframe thead th {\n",
       "        text-align: right;\n",
       "    }\n",
       "</style>\n",
       "<table border=\"1\" class=\"dataframe\">\n",
       "  <thead>\n",
       "    <tr style=\"text-align: right;\">\n",
       "      <th></th>\n",
       "      <th>vru+line</th>\n",
       "      <th>call_id</th>\n",
       "      <th>customer_id</th>\n",
       "      <th>priority</th>\n",
       "      <th>type</th>\n",
       "      <th>date</th>\n",
       "      <th>vru_entry</th>\n",
       "      <th>vru_exit</th>\n",
       "      <th>q_start</th>\n",
       "      <th>q_exit</th>\n",
       "      <th>outcome</th>\n",
       "      <th>ser_start</th>\n",
       "      <th>ser_exit</th>\n",
       "      <th>server</th>\n",
       "    </tr>\n",
       "  </thead>\n",
       "  <tbody>\n",
       "  </tbody>\n",
       "</table>\n",
       "</div>"
      ],
      "text/plain": [
       "Empty DataFrame\n",
       "Columns: [vru+line, call_id, customer_id, priority, type, date, vru_entry, vru_exit, q_start, q_exit, outcome, ser_start, ser_exit, server]\n",
       "Index: []"
      ]
     },
     "execution_count": 6,
     "metadata": {},
     "output_type": "execute_result"
    }
   ],
   "source": [
    "df[df.duplicated(keep='first')]"
   ]
  },
  {
   "cell_type": "markdown",
   "id": "a53f4e46",
   "metadata": {},
   "source": [
    "no duplicates found"
   ]
  },
  {
   "cell_type": "code",
   "execution_count": 7,
   "id": "a5141b39",
   "metadata": {},
   "outputs": [
    {
     "name": "stdout",
     "output_type": "stream",
     "text": [
      "<class 'pandas.core.frame.DataFrame'>\n",
      "RangeIndex: 33344 entries, 0 to 33343\n",
      "Data columns (total 14 columns):\n",
      " #   Column       Non-Null Count  Dtype  \n",
      "---  ------       --------------  -----  \n",
      " 0   vru+line     33344 non-null  object \n",
      " 1   call_id      33344 non-null  int64  \n",
      " 2   customer_id  33344 non-null  float64\n",
      " 3   priority     33344 non-null  int64  \n",
      " 4   type         33344 non-null  object \n",
      " 5   date         33344 non-null  int64  \n",
      " 6   vru_entry    33344 non-null  object \n",
      " 7   vru_exit     33344 non-null  object \n",
      " 8   q_start      33344 non-null  object \n",
      " 9   q_exit       33344 non-null  object \n",
      " 10  outcome      33344 non-null  object \n",
      " 11  ser_start    33344 non-null  object \n",
      " 12  ser_exit     33344 non-null  object \n",
      " 13  server       33344 non-null  object \n",
      "dtypes: float64(1), int64(3), object(10)\n",
      "memory usage: 3.6+ MB\n"
     ]
    }
   ],
   "source": [
    "df.info()"
   ]
  },
  {
   "cell_type": "code",
   "execution_count": 8,
   "id": "de19f71e",
   "metadata": {},
   "outputs": [],
   "source": [
    "df['date'] = df['date'].astype(str).str.replace(r'(\\w{2}(?!$))', r'\\1/', regex=True)"
   ]
  },
  {
   "cell_type": "code",
   "execution_count": 9,
   "id": "9f00ce8d",
   "metadata": {},
   "outputs": [
    {
     "data": {
      "text/html": [
       "<div>\n",
       "<style scoped>\n",
       "    .dataframe tbody tr th:only-of-type {\n",
       "        vertical-align: middle;\n",
       "    }\n",
       "\n",
       "    .dataframe tbody tr th {\n",
       "        vertical-align: top;\n",
       "    }\n",
       "\n",
       "    .dataframe thead th {\n",
       "        text-align: right;\n",
       "    }\n",
       "</style>\n",
       "<table border=\"1\" class=\"dataframe\">\n",
       "  <thead>\n",
       "    <tr style=\"text-align: right;\">\n",
       "      <th></th>\n",
       "      <th>vru+line</th>\n",
       "      <th>call_id</th>\n",
       "      <th>customer_id</th>\n",
       "      <th>priority</th>\n",
       "      <th>type</th>\n",
       "      <th>date</th>\n",
       "      <th>vru_entry</th>\n",
       "      <th>vru_exit</th>\n",
       "      <th>q_start</th>\n",
       "      <th>q_exit</th>\n",
       "      <th>outcome</th>\n",
       "      <th>ser_start</th>\n",
       "      <th>ser_exit</th>\n",
       "      <th>server</th>\n",
       "    </tr>\n",
       "  </thead>\n",
       "  <tbody>\n",
       "    <tr>\n",
       "      <th>0</th>\n",
       "      <td>AA0101</td>\n",
       "      <td>34536</td>\n",
       "      <td>0.0</td>\n",
       "      <td>0</td>\n",
       "      <td>PS</td>\n",
       "      <td>99/02/01</td>\n",
       "      <td>07:02:47</td>\n",
       "      <td>07:02:56</td>\n",
       "      <td>00:00:00</td>\n",
       "      <td>00:00:00</td>\n",
       "      <td>AGENT</td>\n",
       "      <td>07:02:55</td>\n",
       "      <td>07:05:41</td>\n",
       "      <td>DORIT</td>\n",
       "    </tr>\n",
       "    <tr>\n",
       "      <th>1</th>\n",
       "      <td>AA0101</td>\n",
       "      <td>34537</td>\n",
       "      <td>0.0</td>\n",
       "      <td>0</td>\n",
       "      <td>PS</td>\n",
       "      <td>99/02/01</td>\n",
       "      <td>07:31:45</td>\n",
       "      <td>07:31:55</td>\n",
       "      <td>00:00:00</td>\n",
       "      <td>00:00:00</td>\n",
       "      <td>AGENT</td>\n",
       "      <td>07:31:54</td>\n",
       "      <td>07:31:59</td>\n",
       "      <td>NO_SERVER</td>\n",
       "    </tr>\n",
       "  </tbody>\n",
       "</table>\n",
       "</div>"
      ],
      "text/plain": [
       "  vru+line  call_id  customer_id  priority type      date vru_entry  vru_exit  \\\n",
       "0   AA0101    34536          0.0         0   PS  99/02/01  07:02:47  07:02:56   \n",
       "1   AA0101    34537          0.0         0   PS  99/02/01  07:31:45  07:31:55   \n",
       "\n",
       "    q_start    q_exit outcome ser_start  ser_exit     server  \n",
       "0  00:00:00  00:00:00   AGENT  07:02:55  07:05:41      DORIT  \n",
       "1  00:00:00  00:00:00   AGENT  07:31:54  07:31:59  NO_SERVER  "
      ]
     },
     "execution_count": 9,
     "metadata": {},
     "output_type": "execute_result"
    }
   ],
   "source": [
    "df.head(2)"
   ]
  },
  {
   "cell_type": "code",
   "execution_count": 10,
   "id": "272b3892",
   "metadata": {},
   "outputs": [],
   "source": [
    "df['date']=pd.to_datetime(df['date']).dt.date   "
   ]
  },
  {
   "cell_type": "code",
   "execution_count": 11,
   "id": "acc835c4",
   "metadata": {},
   "outputs": [
    {
     "data": {
      "text/html": [
       "<div>\n",
       "<style scoped>\n",
       "    .dataframe tbody tr th:only-of-type {\n",
       "        vertical-align: middle;\n",
       "    }\n",
       "\n",
       "    .dataframe tbody tr th {\n",
       "        vertical-align: top;\n",
       "    }\n",
       "\n",
       "    .dataframe thead th {\n",
       "        text-align: right;\n",
       "    }\n",
       "</style>\n",
       "<table border=\"1\" class=\"dataframe\">\n",
       "  <thead>\n",
       "    <tr style=\"text-align: right;\">\n",
       "      <th></th>\n",
       "      <th>vru+line</th>\n",
       "      <th>call_id</th>\n",
       "      <th>customer_id</th>\n",
       "      <th>priority</th>\n",
       "      <th>type</th>\n",
       "      <th>date</th>\n",
       "      <th>vru_entry</th>\n",
       "      <th>vru_exit</th>\n",
       "      <th>q_start</th>\n",
       "      <th>q_exit</th>\n",
       "      <th>outcome</th>\n",
       "      <th>ser_start</th>\n",
       "      <th>ser_exit</th>\n",
       "      <th>server</th>\n",
       "    </tr>\n",
       "  </thead>\n",
       "  <tbody>\n",
       "    <tr>\n",
       "      <th>0</th>\n",
       "      <td>AA0101</td>\n",
       "      <td>34536</td>\n",
       "      <td>0.0</td>\n",
       "      <td>0</td>\n",
       "      <td>PS</td>\n",
       "      <td>1999-02-01</td>\n",
       "      <td>07:02:47</td>\n",
       "      <td>07:02:56</td>\n",
       "      <td>00:00:00</td>\n",
       "      <td>00:00:00</td>\n",
       "      <td>AGENT</td>\n",
       "      <td>07:02:55</td>\n",
       "      <td>07:05:41</td>\n",
       "      <td>DORIT</td>\n",
       "    </tr>\n",
       "    <tr>\n",
       "      <th>1</th>\n",
       "      <td>AA0101</td>\n",
       "      <td>34537</td>\n",
       "      <td>0.0</td>\n",
       "      <td>0</td>\n",
       "      <td>PS</td>\n",
       "      <td>1999-02-01</td>\n",
       "      <td>07:31:45</td>\n",
       "      <td>07:31:55</td>\n",
       "      <td>00:00:00</td>\n",
       "      <td>00:00:00</td>\n",
       "      <td>AGENT</td>\n",
       "      <td>07:31:54</td>\n",
       "      <td>07:31:59</td>\n",
       "      <td>NO_SERVER</td>\n",
       "    </tr>\n",
       "  </tbody>\n",
       "</table>\n",
       "</div>"
      ],
      "text/plain": [
       "  vru+line  call_id  customer_id  priority type        date vru_entry  \\\n",
       "0   AA0101    34536          0.0         0   PS  1999-02-01  07:02:47   \n",
       "1   AA0101    34537          0.0         0   PS  1999-02-01  07:31:45   \n",
       "\n",
       "   vru_exit   q_start    q_exit outcome ser_start  ser_exit     server  \n",
       "0  07:02:56  00:00:00  00:00:00   AGENT  07:02:55  07:05:41      DORIT  \n",
       "1  07:31:55  00:00:00  00:00:00   AGENT  07:31:54  07:31:59  NO_SERVER  "
      ]
     },
     "execution_count": 11,
     "metadata": {},
     "output_type": "execute_result"
    }
   ],
   "source": [
    "df.head(2)"
   ]
  },
  {
   "cell_type": "code",
   "execution_count": 12,
   "id": "2dbe7564",
   "metadata": {},
   "outputs": [
    {
     "name": "stdout",
     "output_type": "stream",
     "text": [
      "<class 'pandas.core.frame.DataFrame'>\n",
      "RangeIndex: 33344 entries, 0 to 33343\n",
      "Data columns (total 14 columns):\n",
      " #   Column       Non-Null Count  Dtype  \n",
      "---  ------       --------------  -----  \n",
      " 0   vru+line     33344 non-null  object \n",
      " 1   call_id      33344 non-null  int64  \n",
      " 2   customer_id  33344 non-null  float64\n",
      " 3   priority     33344 non-null  int64  \n",
      " 4   type         33344 non-null  object \n",
      " 5   date         33344 non-null  object \n",
      " 6   vru_entry    33344 non-null  object \n",
      " 7   vru_exit     33344 non-null  object \n",
      " 8   q_start      33344 non-null  object \n",
      " 9   q_exit       33344 non-null  object \n",
      " 10  outcome      33344 non-null  object \n",
      " 11  ser_start    33344 non-null  object \n",
      " 12  ser_exit     33344 non-null  object \n",
      " 13  server       33344 non-null  object \n",
      "dtypes: float64(1), int64(2), object(11)\n",
      "memory usage: 3.6+ MB\n"
     ]
    }
   ],
   "source": [
    "df.info()"
   ]
  },
  {
   "cell_type": "code",
   "execution_count": 13,
   "id": "2cc462ad",
   "metadata": {},
   "outputs": [],
   "source": [
    "df['vru_entry']=(pd.to_timedelta(df['vru_entry'].str.strip()))"
   ]
  },
  {
   "cell_type": "code",
   "execution_count": 14,
   "id": "1312c435",
   "metadata": {},
   "outputs": [],
   "source": [
    "df['vru_exit']=(pd.to_timedelta(df['vru_exit'].str.strip()))"
   ]
  },
  {
   "cell_type": "code",
   "execution_count": 15,
   "id": "97562b9d",
   "metadata": {},
   "outputs": [],
   "source": [
    "df['q_start']=(pd.to_timedelta(df['q_start'].str.strip()))"
   ]
  },
  {
   "cell_type": "code",
   "execution_count": 16,
   "id": "bcd2fd1b",
   "metadata": {},
   "outputs": [],
   "source": [
    "df['q_exit']=(pd.to_timedelta(df['q_exit'].str.strip()))"
   ]
  },
  {
   "cell_type": "code",
   "execution_count": 17,
   "id": "2a7f6154",
   "metadata": {},
   "outputs": [],
   "source": [
    "df['ser_start']=(pd.to_timedelta(df['ser_start'].str.strip()))"
   ]
  },
  {
   "cell_type": "code",
   "execution_count": 18,
   "id": "dfe84439",
   "metadata": {},
   "outputs": [],
   "source": [
    "df['ser_exit']=(pd.to_timedelta(df['ser_exit'].str.strip()))"
   ]
  },
  {
   "cell_type": "code",
   "execution_count": 19,
   "id": "18a29acd",
   "metadata": {},
   "outputs": [
    {
     "data": {
      "text/html": [
       "<div>\n",
       "<style scoped>\n",
       "    .dataframe tbody tr th:only-of-type {\n",
       "        vertical-align: middle;\n",
       "    }\n",
       "\n",
       "    .dataframe tbody tr th {\n",
       "        vertical-align: top;\n",
       "    }\n",
       "\n",
       "    .dataframe thead th {\n",
       "        text-align: right;\n",
       "    }\n",
       "</style>\n",
       "<table border=\"1\" class=\"dataframe\">\n",
       "  <thead>\n",
       "    <tr style=\"text-align: right;\">\n",
       "      <th></th>\n",
       "      <th>vru+line</th>\n",
       "      <th>call_id</th>\n",
       "      <th>customer_id</th>\n",
       "      <th>priority</th>\n",
       "      <th>type</th>\n",
       "      <th>date</th>\n",
       "      <th>vru_entry</th>\n",
       "      <th>vru_exit</th>\n",
       "      <th>q_start</th>\n",
       "      <th>q_exit</th>\n",
       "      <th>outcome</th>\n",
       "      <th>ser_start</th>\n",
       "      <th>ser_exit</th>\n",
       "      <th>server</th>\n",
       "    </tr>\n",
       "  </thead>\n",
       "  <tbody>\n",
       "    <tr>\n",
       "      <th>0</th>\n",
       "      <td>AA0101</td>\n",
       "      <td>34536</td>\n",
       "      <td>0.0</td>\n",
       "      <td>0</td>\n",
       "      <td>PS</td>\n",
       "      <td>1999-02-01</td>\n",
       "      <td>0 days 07:02:47</td>\n",
       "      <td>0 days 07:02:56</td>\n",
       "      <td>0 days 00:00:00</td>\n",
       "      <td>0 days 00:00:00</td>\n",
       "      <td>AGENT</td>\n",
       "      <td>0 days 07:02:55</td>\n",
       "      <td>0 days 07:05:41</td>\n",
       "      <td>DORIT</td>\n",
       "    </tr>\n",
       "    <tr>\n",
       "      <th>1</th>\n",
       "      <td>AA0101</td>\n",
       "      <td>34537</td>\n",
       "      <td>0.0</td>\n",
       "      <td>0</td>\n",
       "      <td>PS</td>\n",
       "      <td>1999-02-01</td>\n",
       "      <td>0 days 07:31:45</td>\n",
       "      <td>0 days 07:31:55</td>\n",
       "      <td>0 days 00:00:00</td>\n",
       "      <td>0 days 00:00:00</td>\n",
       "      <td>AGENT</td>\n",
       "      <td>0 days 07:31:54</td>\n",
       "      <td>0 days 07:31:59</td>\n",
       "      <td>NO_SERVER</td>\n",
       "    </tr>\n",
       "    <tr>\n",
       "      <th>2</th>\n",
       "      <td>AA0101</td>\n",
       "      <td>34538</td>\n",
       "      <td>0.0</td>\n",
       "      <td>0</td>\n",
       "      <td>NW</td>\n",
       "      <td>1999-02-01</td>\n",
       "      <td>0 days 07:54:38</td>\n",
       "      <td>0 days 07:54:51</td>\n",
       "      <td>0 days 00:00:00</td>\n",
       "      <td>0 days 00:00:00</td>\n",
       "      <td>AGENT</td>\n",
       "      <td>0 days 07:54:49</td>\n",
       "      <td>0 days 07:56:21</td>\n",
       "      <td>TOVA</td>\n",
       "    </tr>\n",
       "    <tr>\n",
       "      <th>3</th>\n",
       "      <td>AA0101</td>\n",
       "      <td>34539</td>\n",
       "      <td>23317894.0</td>\n",
       "      <td>2</td>\n",
       "      <td>PS</td>\n",
       "      <td>1999-02-01</td>\n",
       "      <td>0 days 08:09:16</td>\n",
       "      <td>0 days 08:09:22</td>\n",
       "      <td>0 days 08:09:22</td>\n",
       "      <td>0 days 08:09:27</td>\n",
       "      <td>HANG</td>\n",
       "      <td>0 days 00:00:00</td>\n",
       "      <td>0 days 00:00:00</td>\n",
       "      <td>NO_SERVER</td>\n",
       "    </tr>\n",
       "    <tr>\n",
       "      <th>4</th>\n",
       "      <td>AA0101</td>\n",
       "      <td>34540</td>\n",
       "      <td>48178511.0</td>\n",
       "      <td>2</td>\n",
       "      <td>PS</td>\n",
       "      <td>1999-02-01</td>\n",
       "      <td>0 days 08:19:42</td>\n",
       "      <td>0 days 08:19:47</td>\n",
       "      <td>0 days 08:19:47</td>\n",
       "      <td>0 days 08:20:21</td>\n",
       "      <td>AGENT</td>\n",
       "      <td>0 days 08:20:20</td>\n",
       "      <td>0 days 08:22:04</td>\n",
       "      <td>MICHAL</td>\n",
       "    </tr>\n",
       "  </tbody>\n",
       "</table>\n",
       "</div>"
      ],
      "text/plain": [
       "  vru+line  call_id  customer_id  priority type        date       vru_entry  \\\n",
       "0   AA0101    34536          0.0         0   PS  1999-02-01 0 days 07:02:47   \n",
       "1   AA0101    34537          0.0         0   PS  1999-02-01 0 days 07:31:45   \n",
       "2   AA0101    34538          0.0         0   NW  1999-02-01 0 days 07:54:38   \n",
       "3   AA0101    34539   23317894.0         2   PS  1999-02-01 0 days 08:09:16   \n",
       "4   AA0101    34540   48178511.0         2   PS  1999-02-01 0 days 08:19:42   \n",
       "\n",
       "         vru_exit         q_start          q_exit outcome       ser_start  \\\n",
       "0 0 days 07:02:56 0 days 00:00:00 0 days 00:00:00   AGENT 0 days 07:02:55   \n",
       "1 0 days 07:31:55 0 days 00:00:00 0 days 00:00:00   AGENT 0 days 07:31:54   \n",
       "2 0 days 07:54:51 0 days 00:00:00 0 days 00:00:00   AGENT 0 days 07:54:49   \n",
       "3 0 days 08:09:22 0 days 08:09:22 0 days 08:09:27    HANG 0 days 00:00:00   \n",
       "4 0 days 08:19:47 0 days 08:19:47 0 days 08:20:21   AGENT 0 days 08:20:20   \n",
       "\n",
       "         ser_exit     server  \n",
       "0 0 days 07:05:41      DORIT  \n",
       "1 0 days 07:31:59  NO_SERVER  \n",
       "2 0 days 07:56:21       TOVA  \n",
       "3 0 days 00:00:00  NO_SERVER  \n",
       "4 0 days 08:22:04     MICHAL  "
      ]
     },
     "execution_count": 19,
     "metadata": {},
     "output_type": "execute_result"
    }
   ],
   "source": [
    "df.head()"
   ]
  },
  {
   "cell_type": "code",
   "execution_count": 20,
   "id": "cf4024b5",
   "metadata": {},
   "outputs": [],
   "source": [
    "df['vru_time']=df['vru_exit'] - df['vru_entry']"
   ]
  },
  {
   "cell_type": "code",
   "execution_count": 21,
   "id": "6d023d64",
   "metadata": {},
   "outputs": [],
   "source": [
    "df['q_time']=df['q_exit'] - df['q_start']"
   ]
  },
  {
   "cell_type": "code",
   "execution_count": 22,
   "id": "cc61fb58",
   "metadata": {},
   "outputs": [],
   "source": [
    "df['ser_time']= df['ser_exit'] - df['ser_start']"
   ]
  },
  {
   "cell_type": "code",
   "execution_count": 23,
   "id": "f190453f",
   "metadata": {},
   "outputs": [
    {
     "data": {
      "text/html": [
       "<div>\n",
       "<style scoped>\n",
       "    .dataframe tbody tr th:only-of-type {\n",
       "        vertical-align: middle;\n",
       "    }\n",
       "\n",
       "    .dataframe tbody tr th {\n",
       "        vertical-align: top;\n",
       "    }\n",
       "\n",
       "    .dataframe thead th {\n",
       "        text-align: right;\n",
       "    }\n",
       "</style>\n",
       "<table border=\"1\" class=\"dataframe\">\n",
       "  <thead>\n",
       "    <tr style=\"text-align: right;\">\n",
       "      <th></th>\n",
       "      <th>vru+line</th>\n",
       "      <th>call_id</th>\n",
       "      <th>customer_id</th>\n",
       "      <th>priority</th>\n",
       "      <th>type</th>\n",
       "      <th>date</th>\n",
       "      <th>vru_entry</th>\n",
       "      <th>vru_exit</th>\n",
       "      <th>q_start</th>\n",
       "      <th>q_exit</th>\n",
       "      <th>outcome</th>\n",
       "      <th>ser_start</th>\n",
       "      <th>ser_exit</th>\n",
       "      <th>server</th>\n",
       "      <th>vru_time</th>\n",
       "      <th>q_time</th>\n",
       "      <th>ser_time</th>\n",
       "    </tr>\n",
       "  </thead>\n",
       "  <tbody>\n",
       "    <tr>\n",
       "      <th>0</th>\n",
       "      <td>AA0101</td>\n",
       "      <td>34536</td>\n",
       "      <td>0.0</td>\n",
       "      <td>0</td>\n",
       "      <td>PS</td>\n",
       "      <td>1999-02-01</td>\n",
       "      <td>0 days 07:02:47</td>\n",
       "      <td>0 days 07:02:56</td>\n",
       "      <td>0 days 00:00:00</td>\n",
       "      <td>0 days 00:00:00</td>\n",
       "      <td>AGENT</td>\n",
       "      <td>0 days 07:02:55</td>\n",
       "      <td>0 days 07:05:41</td>\n",
       "      <td>DORIT</td>\n",
       "      <td>0 days 00:00:09</td>\n",
       "      <td>0 days 00:00:00</td>\n",
       "      <td>0 days 00:02:46</td>\n",
       "    </tr>\n",
       "    <tr>\n",
       "      <th>1</th>\n",
       "      <td>AA0101</td>\n",
       "      <td>34537</td>\n",
       "      <td>0.0</td>\n",
       "      <td>0</td>\n",
       "      <td>PS</td>\n",
       "      <td>1999-02-01</td>\n",
       "      <td>0 days 07:31:45</td>\n",
       "      <td>0 days 07:31:55</td>\n",
       "      <td>0 days 00:00:00</td>\n",
       "      <td>0 days 00:00:00</td>\n",
       "      <td>AGENT</td>\n",
       "      <td>0 days 07:31:54</td>\n",
       "      <td>0 days 07:31:59</td>\n",
       "      <td>NO_SERVER</td>\n",
       "      <td>0 days 00:00:10</td>\n",
       "      <td>0 days 00:00:00</td>\n",
       "      <td>0 days 00:00:05</td>\n",
       "    </tr>\n",
       "    <tr>\n",
       "      <th>2</th>\n",
       "      <td>AA0101</td>\n",
       "      <td>34538</td>\n",
       "      <td>0.0</td>\n",
       "      <td>0</td>\n",
       "      <td>NW</td>\n",
       "      <td>1999-02-01</td>\n",
       "      <td>0 days 07:54:38</td>\n",
       "      <td>0 days 07:54:51</td>\n",
       "      <td>0 days 00:00:00</td>\n",
       "      <td>0 days 00:00:00</td>\n",
       "      <td>AGENT</td>\n",
       "      <td>0 days 07:54:49</td>\n",
       "      <td>0 days 07:56:21</td>\n",
       "      <td>TOVA</td>\n",
       "      <td>0 days 00:00:13</td>\n",
       "      <td>0 days 00:00:00</td>\n",
       "      <td>0 days 00:01:32</td>\n",
       "    </tr>\n",
       "    <tr>\n",
       "      <th>3</th>\n",
       "      <td>AA0101</td>\n",
       "      <td>34539</td>\n",
       "      <td>23317894.0</td>\n",
       "      <td>2</td>\n",
       "      <td>PS</td>\n",
       "      <td>1999-02-01</td>\n",
       "      <td>0 days 08:09:16</td>\n",
       "      <td>0 days 08:09:22</td>\n",
       "      <td>0 days 08:09:22</td>\n",
       "      <td>0 days 08:09:27</td>\n",
       "      <td>HANG</td>\n",
       "      <td>0 days 00:00:00</td>\n",
       "      <td>0 days 00:00:00</td>\n",
       "      <td>NO_SERVER</td>\n",
       "      <td>0 days 00:00:06</td>\n",
       "      <td>0 days 00:00:05</td>\n",
       "      <td>0 days 00:00:00</td>\n",
       "    </tr>\n",
       "    <tr>\n",
       "      <th>4</th>\n",
       "      <td>AA0101</td>\n",
       "      <td>34540</td>\n",
       "      <td>48178511.0</td>\n",
       "      <td>2</td>\n",
       "      <td>PS</td>\n",
       "      <td>1999-02-01</td>\n",
       "      <td>0 days 08:19:42</td>\n",
       "      <td>0 days 08:19:47</td>\n",
       "      <td>0 days 08:19:47</td>\n",
       "      <td>0 days 08:20:21</td>\n",
       "      <td>AGENT</td>\n",
       "      <td>0 days 08:20:20</td>\n",
       "      <td>0 days 08:22:04</td>\n",
       "      <td>MICHAL</td>\n",
       "      <td>0 days 00:00:05</td>\n",
       "      <td>0 days 00:00:34</td>\n",
       "      <td>0 days 00:01:44</td>\n",
       "    </tr>\n",
       "  </tbody>\n",
       "</table>\n",
       "</div>"
      ],
      "text/plain": [
       "  vru+line  call_id  customer_id  priority type        date       vru_entry  \\\n",
       "0   AA0101    34536          0.0         0   PS  1999-02-01 0 days 07:02:47   \n",
       "1   AA0101    34537          0.0         0   PS  1999-02-01 0 days 07:31:45   \n",
       "2   AA0101    34538          0.0         0   NW  1999-02-01 0 days 07:54:38   \n",
       "3   AA0101    34539   23317894.0         2   PS  1999-02-01 0 days 08:09:16   \n",
       "4   AA0101    34540   48178511.0         2   PS  1999-02-01 0 days 08:19:42   \n",
       "\n",
       "         vru_exit         q_start          q_exit outcome       ser_start  \\\n",
       "0 0 days 07:02:56 0 days 00:00:00 0 days 00:00:00   AGENT 0 days 07:02:55   \n",
       "1 0 days 07:31:55 0 days 00:00:00 0 days 00:00:00   AGENT 0 days 07:31:54   \n",
       "2 0 days 07:54:51 0 days 00:00:00 0 days 00:00:00   AGENT 0 days 07:54:49   \n",
       "3 0 days 08:09:22 0 days 08:09:22 0 days 08:09:27    HANG 0 days 00:00:00   \n",
       "4 0 days 08:19:47 0 days 08:19:47 0 days 08:20:21   AGENT 0 days 08:20:20   \n",
       "\n",
       "         ser_exit     server        vru_time          q_time        ser_time  \n",
       "0 0 days 07:05:41      DORIT 0 days 00:00:09 0 days 00:00:00 0 days 00:02:46  \n",
       "1 0 days 07:31:59  NO_SERVER 0 days 00:00:10 0 days 00:00:00 0 days 00:00:05  \n",
       "2 0 days 07:56:21       TOVA 0 days 00:00:13 0 days 00:00:00 0 days 00:01:32  \n",
       "3 0 days 00:00:00  NO_SERVER 0 days 00:00:06 0 days 00:00:05 0 days 00:00:00  \n",
       "4 0 days 08:22:04     MICHAL 0 days 00:00:05 0 days 00:00:34 0 days 00:01:44  "
      ]
     },
     "execution_count": 23,
     "metadata": {},
     "output_type": "execute_result"
    }
   ],
   "source": [
    "df.head()"
   ]
  },
  {
   "cell_type": "code",
   "execution_count": 24,
   "id": "f8b3f8d8",
   "metadata": {},
   "outputs": [
    {
     "data": {
      "text/plain": [
       "(33344, 17)"
      ]
     },
     "execution_count": 24,
     "metadata": {},
     "output_type": "execute_result"
    }
   ],
   "source": [
    "# shape after adding three new columns\n",
    "df.shape"
   ]
  },
  {
   "cell_type": "code",
   "execution_count": 25,
   "id": "c322b813",
   "metadata": {},
   "outputs": [
    {
     "name": "stdout",
     "output_type": "stream",
     "text": [
      "<class 'pandas.core.frame.DataFrame'>\n",
      "RangeIndex: 33344 entries, 0 to 33343\n",
      "Data columns (total 17 columns):\n",
      " #   Column       Non-Null Count  Dtype          \n",
      "---  ------       --------------  -----          \n",
      " 0   vru+line     33344 non-null  object         \n",
      " 1   call_id      33344 non-null  int64          \n",
      " 2   customer_id  33344 non-null  float64        \n",
      " 3   priority     33344 non-null  int64          \n",
      " 4   type         33344 non-null  object         \n",
      " 5   date         33344 non-null  object         \n",
      " 6   vru_entry    33344 non-null  timedelta64[ns]\n",
      " 7   vru_exit     33344 non-null  timedelta64[ns]\n",
      " 8   q_start      33344 non-null  timedelta64[ns]\n",
      " 9   q_exit       33344 non-null  timedelta64[ns]\n",
      " 10  outcome      33344 non-null  object         \n",
      " 11  ser_start    33344 non-null  timedelta64[ns]\n",
      " 12  ser_exit     33344 non-null  timedelta64[ns]\n",
      " 13  server       33344 non-null  object         \n",
      " 14  vru_time     33344 non-null  timedelta64[ns]\n",
      " 15  q_time       33344 non-null  timedelta64[ns]\n",
      " 16  ser_time     33344 non-null  timedelta64[ns]\n",
      "dtypes: float64(1), int64(2), object(5), timedelta64[ns](9)\n",
      "memory usage: 4.3+ MB\n"
     ]
    }
   ],
   "source": [
    "df.info()"
   ]
  },
  {
   "cell_type": "code",
   "execution_count": 26,
   "id": "c28af8fc",
   "metadata": {},
   "outputs": [
    {
     "data": {
      "text/html": [
       "<div>\n",
       "<style scoped>\n",
       "    .dataframe tbody tr th:only-of-type {\n",
       "        vertical-align: middle;\n",
       "    }\n",
       "\n",
       "    .dataframe tbody tr th {\n",
       "        vertical-align: top;\n",
       "    }\n",
       "\n",
       "    .dataframe thead th {\n",
       "        text-align: right;\n",
       "    }\n",
       "</style>\n",
       "<table border=\"1\" class=\"dataframe\">\n",
       "  <thead>\n",
       "    <tr style=\"text-align: right;\">\n",
       "      <th></th>\n",
       "      <th>call_id</th>\n",
       "      <th>customer_id</th>\n",
       "      <th>priority</th>\n",
       "      <th>vru_entry</th>\n",
       "      <th>vru_exit</th>\n",
       "      <th>q_start</th>\n",
       "      <th>q_exit</th>\n",
       "      <th>ser_start</th>\n",
       "      <th>ser_exit</th>\n",
       "      <th>vru_time</th>\n",
       "      <th>q_time</th>\n",
       "      <th>ser_time</th>\n",
       "    </tr>\n",
       "  </thead>\n",
       "  <tbody>\n",
       "    <tr>\n",
       "      <th>count</th>\n",
       "      <td>33344.000000</td>\n",
       "      <td>3.334400e+04</td>\n",
       "      <td>33344.000000</td>\n",
       "      <td>33344</td>\n",
       "      <td>33344</td>\n",
       "      <td>33344</td>\n",
       "      <td>33344</td>\n",
       "      <td>33344</td>\n",
       "      <td>33344</td>\n",
       "      <td>33344</td>\n",
       "      <td>33344</td>\n",
       "      <td>33344</td>\n",
       "    </tr>\n",
       "    <tr>\n",
       "      <th>mean</th>\n",
       "      <td>27291.400372</td>\n",
       "      <td>3.139040e+08</td>\n",
       "      <td>0.685611</td>\n",
       "      <td>0 days 14:33:09.580284309</td>\n",
       "      <td>0 days 14:33:20.044145873</td>\n",
       "      <td>0 days 07:48:47.963981525</td>\n",
       "      <td>0 days 07:49:24.573236564</td>\n",
       "      <td>0 days 12:06:41.051073656</td>\n",
       "      <td>0 days 12:08:23.936660268</td>\n",
       "      <td>0 days 00:00:10.463861564</td>\n",
       "      <td>0 days 00:00:36.609255038</td>\n",
       "      <td>0 days 00:01:42.885586612</td>\n",
       "    </tr>\n",
       "    <tr>\n",
       "      <th>std</th>\n",
       "      <td>10127.469387</td>\n",
       "      <td>1.243254e+10</td>\n",
       "      <td>0.873233</td>\n",
       "      <td>0 days 04:30:02.028668708</td>\n",
       "      <td>0 days 04:30:02.045558130</td>\n",
       "      <td>0 days 07:41:31.325960364</td>\n",
       "      <td>0 days 07:42:03.139735476</td>\n",
       "      <td>0 days 06:54:14.101879134</td>\n",
       "      <td>0 days 06:55:06.119170415</td>\n",
       "      <td>0 days 00:00:25.638072343</td>\n",
       "      <td>0 days 00:11:12.564888866</td>\n",
       "      <td>0 days 00:31:38.732621534</td>\n",
       "    </tr>\n",
       "    <tr>\n",
       "      <th>min</th>\n",
       "      <td>1410.000000</td>\n",
       "      <td>0.000000e+00</td>\n",
       "      <td>0.000000</td>\n",
       "      <td>0 days 00:00:18</td>\n",
       "      <td>0 days 00:00:35</td>\n",
       "      <td>0 days 00:00:00</td>\n",
       "      <td>0 days 00:00:00</td>\n",
       "      <td>0 days 00:00:00</td>\n",
       "      <td>0 days 00:00:00</td>\n",
       "      <td>-1 days +23:56:48</td>\n",
       "      <td>-1 days +00:00:57</td>\n",
       "      <td>-1 days +00:00:58</td>\n",
       "    </tr>\n",
       "    <tr>\n",
       "      <th>25%</th>\n",
       "      <td>15107.750000</td>\n",
       "      <td>0.000000e+00</td>\n",
       "      <td>0.000000</td>\n",
       "      <td>0 days 10:50:33.750000</td>\n",
       "      <td>0 days 10:50:44</td>\n",
       "      <td>0 days 00:00:00</td>\n",
       "      <td>0 days 00:00:00</td>\n",
       "      <td>0 days 08:52:58.250000</td>\n",
       "      <td>0 days 08:55:14.500000</td>\n",
       "      <td>0 days 00:00:06</td>\n",
       "      <td>0 days 00:00:00</td>\n",
       "      <td>0 days 00:00:15</td>\n",
       "    </tr>\n",
       "    <tr>\n",
       "      <th>50%</th>\n",
       "      <td>31510.500000</td>\n",
       "      <td>0.000000e+00</td>\n",
       "      <td>0.000000</td>\n",
       "      <td>0 days 14:13:38</td>\n",
       "      <td>0 days 14:13:47</td>\n",
       "      <td>0 days 09:08:33.500000</td>\n",
       "      <td>0 days 09:09:53.500000</td>\n",
       "      <td>0 days 12:47:26.500000</td>\n",
       "      <td>0 days 12:50:00.500000</td>\n",
       "      <td>0 days 00:00:09</td>\n",
       "      <td>0 days 00:00:09</td>\n",
       "      <td>0 days 00:01:20</td>\n",
       "    </tr>\n",
       "    <tr>\n",
       "      <th>75%</th>\n",
       "      <td>35330.250000</td>\n",
       "      <td>2.813175e+07</td>\n",
       "      <td>2.000000</td>\n",
       "      <td>0 days 17:55:03.500000</td>\n",
       "      <td>0 days 17:55:12.250000</td>\n",
       "      <td>0 days 14:29:25.250000</td>\n",
       "      <td>0 days 14:30:13.500000</td>\n",
       "      <td>0 days 17:08:44.500000</td>\n",
       "      <td>0 days 17:11:09.750000</td>\n",
       "      <td>0 days 00:00:11</td>\n",
       "      <td>0 days 00:00:57</td>\n",
       "      <td>0 days 00:03:00</td>\n",
       "    </tr>\n",
       "    <tr>\n",
       "      <th>max</th>\n",
       "      <td>37369.000000</td>\n",
       "      <td>7.240000e+11</td>\n",
       "      <td>2.000000</td>\n",
       "      <td>0 days 23:59:56</td>\n",
       "      <td>0 days 23:59:59</td>\n",
       "      <td>0 days 23:59:29</td>\n",
       "      <td>0 days 23:58:58</td>\n",
       "      <td>0 days 23:59:58</td>\n",
       "      <td>0 days 23:59:57</td>\n",
       "      <td>0 days 00:31:00</td>\n",
       "      <td>0 days 00:15:08</td>\n",
       "      <td>0 days 01:11:04</td>\n",
       "    </tr>\n",
       "  </tbody>\n",
       "</table>\n",
       "</div>"
      ],
      "text/plain": [
       "            call_id   customer_id      priority                  vru_entry  \\\n",
       "count  33344.000000  3.334400e+04  33344.000000                      33344   \n",
       "mean   27291.400372  3.139040e+08      0.685611  0 days 14:33:09.580284309   \n",
       "std    10127.469387  1.243254e+10      0.873233  0 days 04:30:02.028668708   \n",
       "min     1410.000000  0.000000e+00      0.000000            0 days 00:00:18   \n",
       "25%    15107.750000  0.000000e+00      0.000000     0 days 10:50:33.750000   \n",
       "50%    31510.500000  0.000000e+00      0.000000            0 days 14:13:38   \n",
       "75%    35330.250000  2.813175e+07      2.000000     0 days 17:55:03.500000   \n",
       "max    37369.000000  7.240000e+11      2.000000            0 days 23:59:56   \n",
       "\n",
       "                        vru_exit                    q_start  \\\n",
       "count                      33344                      33344   \n",
       "mean   0 days 14:33:20.044145873  0 days 07:48:47.963981525   \n",
       "std    0 days 04:30:02.045558130  0 days 07:41:31.325960364   \n",
       "min              0 days 00:00:35            0 days 00:00:00   \n",
       "25%              0 days 10:50:44            0 days 00:00:00   \n",
       "50%              0 days 14:13:47     0 days 09:08:33.500000   \n",
       "75%       0 days 17:55:12.250000     0 days 14:29:25.250000   \n",
       "max              0 days 23:59:59            0 days 23:59:29   \n",
       "\n",
       "                          q_exit                  ser_start  \\\n",
       "count                      33344                      33344   \n",
       "mean   0 days 07:49:24.573236564  0 days 12:06:41.051073656   \n",
       "std    0 days 07:42:03.139735476  0 days 06:54:14.101879134   \n",
       "min              0 days 00:00:00            0 days 00:00:00   \n",
       "25%              0 days 00:00:00     0 days 08:52:58.250000   \n",
       "50%       0 days 09:09:53.500000     0 days 12:47:26.500000   \n",
       "75%       0 days 14:30:13.500000     0 days 17:08:44.500000   \n",
       "max              0 days 23:58:58            0 days 23:59:58   \n",
       "\n",
       "                        ser_exit                   vru_time  \\\n",
       "count                      33344                      33344   \n",
       "mean   0 days 12:08:23.936660268  0 days 00:00:10.463861564   \n",
       "std    0 days 06:55:06.119170415  0 days 00:00:25.638072343   \n",
       "min              0 days 00:00:00          -1 days +23:56:48   \n",
       "25%       0 days 08:55:14.500000            0 days 00:00:06   \n",
       "50%       0 days 12:50:00.500000            0 days 00:00:09   \n",
       "75%       0 days 17:11:09.750000            0 days 00:00:11   \n",
       "max              0 days 23:59:57            0 days 00:31:00   \n",
       "\n",
       "                          q_time                   ser_time  \n",
       "count                      33344                      33344  \n",
       "mean   0 days 00:00:36.609255038  0 days 00:01:42.885586612  \n",
       "std    0 days 00:11:12.564888866  0 days 00:31:38.732621534  \n",
       "min            -1 days +00:00:57          -1 days +00:00:58  \n",
       "25%              0 days 00:00:00            0 days 00:00:15  \n",
       "50%              0 days 00:00:09            0 days 00:01:20  \n",
       "75%              0 days 00:00:57            0 days 00:03:00  \n",
       "max              0 days 00:15:08            0 days 01:11:04  "
      ]
     },
     "execution_count": 26,
     "metadata": {},
     "output_type": "execute_result"
    }
   ],
   "source": [
    "df.describe()"
   ]
  },
  {
   "cell_type": "markdown",
   "id": "38a1cb22",
   "metadata": {},
   "source": [
    "## EDA"
   ]
  },
  {
   "cell_type": "markdown",
   "id": "4d8bcc0b",
   "metadata": {},
   "source": [
    "1.Univariate Analysis 2.Bivariate Analysis 3.Multivariate Analysis"
   ]
  },
  {
   "cell_type": "code",
   "execution_count": 27,
   "id": "e9783058",
   "metadata": {},
   "outputs": [],
   "source": [
    "dict={'vru+line':'vru_plus_line'}"
   ]
  },
  {
   "cell_type": "code",
   "execution_count": 28,
   "id": "f21e7184",
   "metadata": {},
   "outputs": [],
   "source": [
    "df.rename(columns=dict,inplace=True)"
   ]
  },
  {
   "cell_type": "code",
   "execution_count": 29,
   "id": "75273ebd",
   "metadata": {},
   "outputs": [
    {
     "data": {
      "text/html": [
       "<div>\n",
       "<style scoped>\n",
       "    .dataframe tbody tr th:only-of-type {\n",
       "        vertical-align: middle;\n",
       "    }\n",
       "\n",
       "    .dataframe tbody tr th {\n",
       "        vertical-align: top;\n",
       "    }\n",
       "\n",
       "    .dataframe thead th {\n",
       "        text-align: right;\n",
       "    }\n",
       "</style>\n",
       "<table border=\"1\" class=\"dataframe\">\n",
       "  <thead>\n",
       "    <tr style=\"text-align: right;\">\n",
       "      <th></th>\n",
       "      <th>vru_plus_line</th>\n",
       "      <th>call_id</th>\n",
       "      <th>customer_id</th>\n",
       "      <th>priority</th>\n",
       "      <th>type</th>\n",
       "      <th>date</th>\n",
       "      <th>vru_entry</th>\n",
       "      <th>vru_exit</th>\n",
       "      <th>q_start</th>\n",
       "      <th>q_exit</th>\n",
       "      <th>outcome</th>\n",
       "      <th>ser_start</th>\n",
       "      <th>ser_exit</th>\n",
       "      <th>server</th>\n",
       "      <th>vru_time</th>\n",
       "      <th>q_time</th>\n",
       "      <th>ser_time</th>\n",
       "    </tr>\n",
       "  </thead>\n",
       "  <tbody>\n",
       "    <tr>\n",
       "      <th>0</th>\n",
       "      <td>AA0101</td>\n",
       "      <td>34536</td>\n",
       "      <td>0.0</td>\n",
       "      <td>0</td>\n",
       "      <td>PS</td>\n",
       "      <td>1999-02-01</td>\n",
       "      <td>0 days 07:02:47</td>\n",
       "      <td>0 days 07:02:56</td>\n",
       "      <td>0 days</td>\n",
       "      <td>0 days</td>\n",
       "      <td>AGENT</td>\n",
       "      <td>0 days 07:02:55</td>\n",
       "      <td>0 days 07:05:41</td>\n",
       "      <td>DORIT</td>\n",
       "      <td>0 days 00:00:09</td>\n",
       "      <td>0 days</td>\n",
       "      <td>0 days 00:02:46</td>\n",
       "    </tr>\n",
       "  </tbody>\n",
       "</table>\n",
       "</div>"
      ],
      "text/plain": [
       "  vru_plus_line  call_id  customer_id  priority type        date  \\\n",
       "0        AA0101    34536          0.0         0   PS  1999-02-01   \n",
       "\n",
       "        vru_entry        vru_exit q_start q_exit outcome       ser_start  \\\n",
       "0 0 days 07:02:47 0 days 07:02:56  0 days 0 days   AGENT 0 days 07:02:55   \n",
       "\n",
       "         ser_exit server        vru_time q_time        ser_time  \n",
       "0 0 days 07:05:41  DORIT 0 days 00:00:09 0 days 0 days 00:02:46  "
      ]
     },
     "execution_count": 29,
     "metadata": {},
     "output_type": "execute_result"
    }
   ],
   "source": [
    "df.head(1)"
   ]
  },
  {
   "cell_type": "code",
   "execution_count": 30,
   "id": "a314becf",
   "metadata": {},
   "outputs": [],
   "source": [
    "import matplotlib.pyplot as plt\n",
    "import seaborn as sns"
   ]
  },
  {
   "cell_type": "code",
   "execution_count": 31,
   "id": "828a8a53",
   "metadata": {},
   "outputs": [
    {
     "data": {
      "image/png": "[encoded data removed]",
      "text/plain": [
       "<Figure size 720x432 with 1 Axes>"
      ]
     },
     "metadata": {
      "needs_background": "light"
     },
     "output_type": "display_data"
    }
   ],
   "source": [
    "plt.figure(figsize=(10,6))\n",
    "sns.histplot(df.vru_plus_line,color='green')\n",
    "plt.xticks(rotation=90)\n",
    "plt.title('vru_plus_line')\n",
    "plt.show()"
   ]
  },
  {
   "cell_type": "markdown",
   "id": "d12e6fb5",
   "metadata": {},
   "source": [
    "Each entering phone-call is first routed through a VRU: There are 6 VRUs labelled AA01 to AA06. Each VRU has several lines labelled 1-16. "
   ]
  },
  {
   "cell_type": "code",
   "execution_count": 32,
   "id": "101d0aa8",
   "metadata": {},
   "outputs": [
    {
     "data": {
      "text/plain": [
       "0    19602\n",
       "2     9119\n",
       "1     4623\n",
       "Name: priority, dtype: int64"
      ]
     },
     "execution_count": 32,
     "metadata": {},
     "output_type": "execute_result"
    }
   ],
   "source": [
    "df.priority.value_counts()"
   ]
  },
  {
   "cell_type": "markdown",
   "id": "5ea9a9ff",
   "metadata": {},
   "source": [
    "0 and 1 indicate unidentified customers or regular customers and 2 indicates priority customers."
   ]
  },
  {
   "cell_type": "code",
   "execution_count": 33,
   "id": "547400f8",
   "metadata": {},
   "outputs": [],
   "source": [
    "f=(df.priority==0) |(df.priority==1)\n",
    "df.loc[f,'priority']=1"
   ]
  },
  {
   "cell_type": "code",
   "execution_count": 34,
   "id": "34421688",
   "metadata": {},
   "outputs": [
    {
     "data": {
      "text/plain": [
       "1    24225\n",
       "2     9119\n",
       "Name: priority, dtype: int64"
      ]
     },
     "execution_count": 34,
     "metadata": {},
     "output_type": "execute_result"
    }
   ],
   "source": [
    "df.priority.value_counts()\n"
   ]
  },
  {
   "cell_type": "code",
   "execution_count": 35,
   "id": "ea56ca29",
   "metadata": {},
   "outputs": [
    {
     "data": {
      "image/png": "[encoded data removed]",
      "text/plain": [
       "<Figure size 432x432 with 1 Axes>"
      ]
     },
     "metadata": {},
     "output_type": "display_data"
    }
   ],
   "source": [
    "plt.figure(figsize= (6, 6))\n",
    "data_pie  = [24225,9119]\n",
    "labels = [\"1=regular customer\", \"2=priority customer\"]\n",
    "explode = [0.1, 0]\n",
    "plt.pie(data_pie ,labels= labels , explode = explode , autopct=\"%1.2f%%\", shadow= True, colors= ['#256D85', '#3BACB6'])\n",
    "plt.legend()\n",
    "plt.show()"
   ]
  },
  {
   "cell_type": "markdown",
   "id": "48fc0a5c",
   "metadata": {},
   "source": [
    "we found that there are 72.65 % regualr customers and 27.35% priority customers"
   ]
  },
  {
   "cell_type": "code",
   "execution_count": 36,
   "id": "103fbc63",
   "metadata": {},
   "outputs": [
    {
     "data": {
      "text/plain": [
       "Index(['vru_plus_line', 'call_id', 'customer_id', 'priority', 'type', 'date',\n",
       "       'vru_entry', 'vru_exit', 'q_start', 'q_exit', 'outcome', 'ser_start',\n",
       "       'ser_exit', 'server', 'vru_time', 'q_time', 'ser_time'],\n",
       "      dtype='object')"
      ]
     },
     "execution_count": 36,
     "metadata": {},
     "output_type": "execute_result"
    }
   ],
   "source": [
    "df.columns"
   ]
  },
  {
   "cell_type": "code",
   "execution_count": 37,
   "id": "c5ed3abe",
   "metadata": {},
   "outputs": [
    {
     "data": {
      "text/plain": [
       "PS    21460\n",
       "NW     7604\n",
       "NE     2750\n",
       "TT     1088\n",
       "IN      293\n",
       "PE      149\n",
       "Name: type, dtype: int64"
      ]
     },
     "execution_count": 37,
     "metadata": {},
     "output_type": "execute_result"
    }
   ],
   "source": [
    "df.type.value_counts()"
   ]
  },
  {
   "cell_type": "code",
   "execution_count": 38,
   "id": "cc47dda4",
   "metadata": {},
   "outputs": [
    {
     "name": "stderr",
     "output_type": "stream",
     "text": [
      "C:\\Users\\Lenovo\\anaconda3\\lib\\site-packages\\seaborn\\_decorators.py:36: FutureWarning: Pass the following variable as a keyword arg: x. From version 0.12, the only valid positional argument will be `data`, and passing other arguments without an explicit keyword will result in an error or misinterpretation.\n",
      "  warnings.warn(\n"
     ]
    },
    {
     "data": {
      "image/png": "[encoded data removed]",
      "text/plain": [
       "<Figure size 720x360 with 1 Axes>"
      ]
     },
     "metadata": {
      "needs_background": "light"
     },
     "output_type": "display_data"
    }
   ],
   "source": [
    "plt.figure(figsize=(10,5))\n",
    "sns.countplot(df.type,palette='dark')\n",
    "plt.title('Type')\n",
    "plt.show()"
   ]
  },
  {
   "cell_type": "code",
   "execution_count": 39,
   "id": "1e1c44bc",
   "metadata": {},
   "outputs": [
    {
     "data": {
      "text/plain": [
       "<bound method IndexOpsMixin.value_counts of 0        1999-02-01\n",
       "1        1999-02-01\n",
       "2        1999-02-01\n",
       "3        1999-02-01\n",
       "4        1999-02-01\n",
       "            ...    \n",
       "33339    1999-02-26\n",
       "33340    1999-02-26\n",
       "33341    1999-02-28\n",
       "33342    1999-02-28\n",
       "33343    1999-02-28\n",
       "Name: date, Length: 33344, dtype: object>"
      ]
     },
     "execution_count": 39,
     "metadata": {},
     "output_type": "execute_result"
    }
   ],
   "source": [
    "df.date.value_counts"
   ]
  },
  {
   "cell_type": "code",
   "execution_count": 40,
   "id": "49c05dc4",
   "metadata": {},
   "outputs": [
    {
     "data": {
      "image/png": "[encoded data removed]",
      "text/plain": [
       "<Figure size 1080x288 with 1 Axes>"
      ]
     },
     "metadata": {
      "needs_background": "light"
     },
     "output_type": "display_data"
    }
   ],
   "source": [
    "plt.figure(figsize=(15,4))\n",
    "sns.countplot(x=df.date,palette='viridis')\n",
    "plt.xticks(rotation=90)\n",
    "plt.title('Date')\n",
    "plt.show()"
   ]
  },
  {
   "cell_type": "markdown",
   "id": "3f87c582",
   "metadata": {},
   "source": [
    "we get to know that we have february months data"
   ]
  },
  {
   "cell_type": "code",
   "execution_count": 41,
   "id": "73ebf1c9",
   "metadata": {},
   "outputs": [
    {
     "data": {
      "text/plain": [
       "Index(['vru_plus_line', 'call_id', 'customer_id', 'priority', 'type', 'date',\n",
       "       'vru_entry', 'vru_exit', 'q_start', 'q_exit', 'outcome', 'ser_start',\n",
       "       'ser_exit', 'server', 'vru_time', 'q_time', 'ser_time'],\n",
       "      dtype='object')"
      ]
     },
     "execution_count": 41,
     "metadata": {},
     "output_type": "execute_result"
    }
   ],
   "source": [
    "df.columns"
   ]
  },
  {
   "cell_type": "code",
   "execution_count": 42,
   "id": "e0153d75",
   "metadata": {},
   "outputs": [
    {
     "data": {
      "text/plain": [
       "AGENT      27162\n",
       "HANG        5904\n",
       "PHANTOM      278\n",
       "Name: outcome, dtype: int64"
      ]
     },
     "execution_count": 42,
     "metadata": {},
     "output_type": "execute_result"
    }
   ],
   "source": [
    "df.outcome.value_counts()"
   ]
  },
  {
   "cell_type": "code",
   "execution_count": 43,
   "id": "17338168",
   "metadata": {},
   "outputs": [
    {
     "data": {
      "image/png": "[encoded data removed]",
      "text/plain": [
       "<Figure size 432x432 with 1 Axes>"
      ]
     },
     "metadata": {},
     "output_type": "display_data"
    }
   ],
   "source": [
    "plt.figure(figsize= (6, 6))\n",
    "data_pie  = [27162,5904,278]\n",
    "labels = [\"AGENT\", \"HANG\",\"PHANTOM\"]\n",
    "explode = [0.1, 0, 0.1]\n",
    "plt.pie(data_pie ,labels= labels , explode = explode , autopct=\"%1.2f%%\", shadow= True, colors= ['#256D85', '#3BACB6','#BB0000'])\n",
    "plt.legend()\n",
    "plt.show()"
   ]
  },
  {
   "cell_type": "markdown",
   "id": "855e7831",
   "metadata": {},
   "source": [
    "There are 3 possible outcomes for each phone call:\n",
    "AGENT – service,\n",
    "HANG - hung up,\n",
    "PHANTOM - a virtual call to be ignored "
   ]
  },
  {
   "cell_type": "code",
   "execution_count": 44,
   "id": "1f4f3392",
   "metadata": {},
   "outputs": [
    {
     "data": {
      "text/plain": [
       "array(['DORIT', 'NO_SERVER', 'TOVA', 'MICHAL', 'KAZAV', 'YITZ', 'ZOHARI',\n",
       "       'YIFAT', 'GILI', 'DARMON', 'ANAT', 'AVNI', 'IDIT', 'BENSION',\n",
       "       'SHLOMO', 'AVIDAN', 'PINHAS', 'BASCH', 'SHARON', 'ELI', 'NAAMA',\n",
       "       'GELBER', 'MIKI', 'MORIAH', 'STEREN'], dtype=object)"
      ]
     },
     "execution_count": 44,
     "metadata": {},
     "output_type": "execute_result"
    }
   ],
   "source": [
    "df.server.unique()"
   ]
  },
  {
   "cell_type": "code",
   "execution_count": 45,
   "id": "e64360f8",
   "metadata": {},
   "outputs": [
    {
     "name": "stderr",
     "output_type": "stream",
     "text": [
      "C:\\Users\\Lenovo\\anaconda3\\lib\\site-packages\\seaborn\\_decorators.py:36: FutureWarning: Pass the following variable as a keyword arg: x. From version 0.12, the only valid positional argument will be `data`, and passing other arguments without an explicit keyword will result in an error or misinterpretation.\n",
      "  warnings.warn(\n"
     ]
    },
    {
     "data": {
      "image/png": "[encoded data removed]",
      "text/plain": [
       "<Figure size 720x288 with 1 Axes>"
      ]
     },
     "metadata": {
      "needs_background": "light"
     },
     "output_type": "display_data"
    }
   ],
   "source": [
    "plt.figure(figsize=(10,4))\n",
    "sns.countplot(df.server,palette='dark')\n",
    "plt.xticks(rotation=90)\n",
    "plt.title(\"servers\")\n",
    "plt.show()"
   ]
  },
  {
   "cell_type": "markdown",
   "id": "205265d2",
   "metadata": {},
   "source": [
    "Name of the agent who served the call. This field is NO_SERVER, if no service was provided."
   ]
  },
  {
   "cell_type": "code",
   "execution_count": 46,
   "id": "4bd65fa6",
   "metadata": {},
   "outputs": [
    {
     "data": {
      "text/html": [
       "<div>\n",
       "<style scoped>\n",
       "    .dataframe tbody tr th:only-of-type {\n",
       "        vertical-align: middle;\n",
       "    }\n",
       "\n",
       "    .dataframe tbody tr th {\n",
       "        vertical-align: top;\n",
       "    }\n",
       "\n",
       "    .dataframe thead th {\n",
       "        text-align: right;\n",
       "    }\n",
       "</style>\n",
       "<table border=\"1\" class=\"dataframe\">\n",
       "  <thead>\n",
       "    <tr style=\"text-align: right;\">\n",
       "      <th></th>\n",
       "      <th>vru_plus_line</th>\n",
       "      <th>call_id</th>\n",
       "      <th>customer_id</th>\n",
       "      <th>priority</th>\n",
       "      <th>type</th>\n",
       "      <th>date</th>\n",
       "      <th>vru_entry</th>\n",
       "      <th>vru_exit</th>\n",
       "      <th>q_start</th>\n",
       "      <th>q_exit</th>\n",
       "      <th>outcome</th>\n",
       "      <th>ser_start</th>\n",
       "      <th>ser_exit</th>\n",
       "      <th>server</th>\n",
       "      <th>vru_time</th>\n",
       "      <th>q_time</th>\n",
       "      <th>ser_time</th>\n",
       "    </tr>\n",
       "  </thead>\n",
       "  <tbody>\n",
       "    <tr>\n",
       "      <th>0</th>\n",
       "      <td>AA0101</td>\n",
       "      <td>34536</td>\n",
       "      <td>0.0</td>\n",
       "      <td>1</td>\n",
       "      <td>PS</td>\n",
       "      <td>1999-02-01</td>\n",
       "      <td>0 days 07:02:47</td>\n",
       "      <td>0 days 07:02:56</td>\n",
       "      <td>0 days</td>\n",
       "      <td>0 days</td>\n",
       "      <td>AGENT</td>\n",
       "      <td>0 days 07:02:55</td>\n",
       "      <td>0 days 07:05:41</td>\n",
       "      <td>DORIT</td>\n",
       "      <td>0 days 00:00:09</td>\n",
       "      <td>0 days</td>\n",
       "      <td>0 days 00:02:46</td>\n",
       "    </tr>\n",
       "    <tr>\n",
       "      <th>1</th>\n",
       "      <td>AA0101</td>\n",
       "      <td>34537</td>\n",
       "      <td>0.0</td>\n",
       "      <td>1</td>\n",
       "      <td>PS</td>\n",
       "      <td>1999-02-01</td>\n",
       "      <td>0 days 07:31:45</td>\n",
       "      <td>0 days 07:31:55</td>\n",
       "      <td>0 days</td>\n",
       "      <td>0 days</td>\n",
       "      <td>AGENT</td>\n",
       "      <td>0 days 07:31:54</td>\n",
       "      <td>0 days 07:31:59</td>\n",
       "      <td>NO_SERVER</td>\n",
       "      <td>0 days 00:00:10</td>\n",
       "      <td>0 days</td>\n",
       "      <td>0 days 00:00:05</td>\n",
       "    </tr>\n",
       "  </tbody>\n",
       "</table>\n",
       "</div>"
      ],
      "text/plain": [
       "  vru_plus_line  call_id  customer_id  priority type        date  \\\n",
       "0        AA0101    34536          0.0         1   PS  1999-02-01   \n",
       "1        AA0101    34537          0.0         1   PS  1999-02-01   \n",
       "\n",
       "        vru_entry        vru_exit q_start q_exit outcome       ser_start  \\\n",
       "0 0 days 07:02:47 0 days 07:02:56  0 days 0 days   AGENT 0 days 07:02:55   \n",
       "1 0 days 07:31:45 0 days 07:31:55  0 days 0 days   AGENT 0 days 07:31:54   \n",
       "\n",
       "         ser_exit     server        vru_time q_time        ser_time  \n",
       "0 0 days 07:05:41      DORIT 0 days 00:00:09 0 days 0 days 00:02:46  \n",
       "1 0 days 07:31:59  NO_SERVER 0 days 00:00:10 0 days 0 days 00:00:05  "
      ]
     },
     "execution_count": 46,
     "metadata": {},
     "output_type": "execute_result"
    }
   ],
   "source": [
    "df.head(2)"
   ]
  },
  {
   "cell_type": "code",
   "execution_count": 47,
   "id": "215e04af",
   "metadata": {},
   "outputs": [
    {
     "data": {
      "image/png": "[encoded data removed]",
      "text/plain": [
       "<Figure size 360x360 with 1 Axes>"
      ]
     },
     "metadata": {
      "needs_background": "light"
     },
     "output_type": "display_data"
    }
   ],
   "source": [
    "plt.figure(figsize=(5,5))\n",
    "sns.barplot(x=df.type, y=df.priority,palette='dark')\n",
    "plt.title(\"Priority vs Type\")\n",
    "plt.show()"
   ]
  },
  {
   "cell_type": "code",
   "execution_count": null,
   "id": "7cb5b71f",
   "metadata": {},
   "outputs": [],
   "source": []
  },
  {
   "cell_type": "code",
   "execution_count": 48,
   "id": "427ff012",
   "metadata": {},
   "outputs": [
    {
     "data": {
      "image/png": "[encoded data removed]",
      "text/plain": [
       "<Figure size 360x360 with 1 Axes>"
      ]
     },
     "metadata": {
      "needs_background": "light"
     },
     "output_type": "display_data"
    }
   ],
   "source": [
    "plt.figure(figsize=(5,5))\n",
    "sns.scatterplot(x=df.vru_entry, y=df.vru_exit)\n",
    "plt.show()"
   ]
  },
  {
   "cell_type": "code",
   "execution_count": 49,
   "id": "22fb36c0",
   "metadata": {},
   "outputs": [
    {
     "data": {
      "image/png": "[encoded data removed]",
      "text/plain": [
       "<Figure size 720x360 with 2 Axes>"
      ]
     },
     "metadata": {
      "needs_background": "light"
     },
     "output_type": "display_data"
    }
   ],
   "source": [
    "plt.figure(figsize=(10,5))\n",
    "plt.subplot(1,2,1)\n",
    "sns.scatterplot(x=df.q_start,y=df.q_exit)\n",
    "plt.subplot(1,2,2)\n",
    "sns.scatterplot(x=df.ser_start,y=df.ser_exit)\n",
    "plt.show()"
   ]
  },
  {
   "cell_type": "markdown",
   "id": "53b0d35a",
   "metadata": {},
   "source": [
    "both graphs looking quit same"
   ]
  },
  {
   "cell_type": "code",
   "execution_count": 50,
   "id": "0eaf5343",
   "metadata": {},
   "outputs": [
    {
     "data": {
      "text/plain": [
       "0 days 00:00:06      7520\n",
       "0 days 00:00:05      5212\n",
       "0 days 00:00:09      5111\n",
       "0 days 00:00:10      3952\n",
       "0 days 00:00:11      1549\n",
       "                     ... \n",
       "-1 days +23:59:04       1\n",
       "0 days 00:04:39         1\n",
       "0 days 00:00:55         1\n",
       "0 days 00:01:50         1\n",
       "0 days 00:02:07         1\n",
       "Name: vru_time, Length: 209, dtype: int64"
      ]
     },
     "execution_count": 50,
     "metadata": {},
     "output_type": "execute_result"
    }
   ],
   "source": [
    "df.vru_time.value_counts()"
   ]
  },
  {
   "cell_type": "code",
   "execution_count": 51,
   "id": "49b244c1",
   "metadata": {},
   "outputs": [
    {
     "data": {
      "text/plain": [
       "25"
      ]
     },
     "execution_count": 51,
     "metadata": {},
     "output_type": "execute_result"
    }
   ],
   "source": [
    "(df['vru_time'] < '0').sum().sum() "
   ]
  },
  {
   "cell_type": "code",
   "execution_count": 52,
   "id": "fb290032",
   "metadata": {},
   "outputs": [
    {
     "data": {
      "text/plain": [
       "0 days 00:00:00    15038\n",
       "0 days 00:00:09      310\n",
       "0 days 00:00:12      290\n",
       "0 days 00:00:10      286\n",
       "0 days 00:00:15      272\n",
       "                   ...  \n",
       "0 days 00:06:58        1\n",
       "0 days 00:08:19        1\n",
       "0 days 00:06:36        1\n",
       "0 days 00:05:57        1\n",
       "0 days 00:07:53        1\n",
       "Name: q_time, Length: 472, dtype: int64"
      ]
     },
     "execution_count": 52,
     "metadata": {},
     "output_type": "execute_result"
    }
   ],
   "source": [
    "df.q_time.value_counts()"
   ]
  },
  {
   "cell_type": "code",
   "execution_count": 53,
   "id": "ef908e67",
   "metadata": {},
   "outputs": [
    {
     "data": {
      "text/plain": [
       "2"
      ]
     },
     "execution_count": 53,
     "metadata": {},
     "output_type": "execute_result"
    }
   ],
   "source": [
    "(df['q_time'] < '0').sum().sum()"
   ]
  },
  {
   "cell_type": "code",
   "execution_count": 54,
   "id": "87fcde26",
   "metadata": {},
   "outputs": [
    {
     "data": {
      "text/plain": [
       "0 days 00:00:00    5893\n",
       "0 days 00:00:03     354\n",
       "0 days 00:00:04     324\n",
       "0 days 00:00:05     231\n",
       "0 days 00:00:02     229\n",
       "                   ... \n",
       "0 days 00:13:15       1\n",
       "0 days 00:20:54       1\n",
       "0 days 00:14:06       1\n",
       "0 days 00:27:25       1\n",
       "0 days 00:21:52       1\n",
       "Name: ser_time, Length: 1225, dtype: int64"
      ]
     },
     "execution_count": 54,
     "metadata": {},
     "output_type": "execute_result"
    }
   ],
   "source": [
    "df.ser_time.value_counts()"
   ]
  },
  {
   "cell_type": "code",
   "execution_count": 55,
   "id": "cb01f868",
   "metadata": {},
   "outputs": [
    {
     "data": {
      "text/plain": [
       "16"
      ]
     },
     "execution_count": 55,
     "metadata": {},
     "output_type": "execute_result"
    }
   ],
   "source": [
    "(df['ser_time'] < '0').sum().sum()"
   ]
  },
  {
   "cell_type": "markdown",
   "id": "cf35b299",
   "metadata": {},
   "source": [
    "we get to know that there are certain inconsistency in our data because above three columns vru_time, q_time and ser_time we found negative datetime values in vru_time 25 values are neagative, in q_time 2 negative values and in ser_time 16 negative values you can either drop it or leave as it is"
   ]
  },
  {
   "cell_type": "code",
   "execution_count": 56,
   "id": "4e179eb2",
   "metadata": {},
   "outputs": [
    {
     "data": {
      "text/plain": [
       "<AxesSubplot:>"
      ]
     },
     "execution_count": 56,
     "metadata": {},
     "output_type": "execute_result"
    },
    {
     "data": {
      "image/png": "[encoded data removed]",
      "text/plain": [
       "<Figure size 432x288 with 2 Axes>"
      ]
     },
     "metadata": {
      "needs_background": "light"
     },
     "output_type": "display_data"
    }
   ],
   "source": [
    "sns.heatmap(df.corr(),annot=True)"
   ]
  },
  {
   "cell_type": "markdown",
   "id": "7aabb44b",
   "metadata": {},
   "source": [
    "### VRU CHARGES"
   ]
  },
  {
   "cell_type": "code",
   "execution_count": 57,
   "id": "eb9eab96",
   "metadata": {},
   "outputs": [
    {
     "data": {
      "text/plain": [
       "Timedelta('4 days 00:55:07')"
      ]
     },
     "execution_count": 57,
     "metadata": {},
     "output_type": "execute_result"
    }
   ],
   "source": [
    "df['vru_time'].sum()"
   ]
  },
  {
   "cell_type": "code",
   "execution_count": 58,
   "id": "ebce7b41",
   "metadata": {},
   "outputs": [
    {
     "name": "stdout",
     "output_type": "stream",
     "text": [
      "days_seconds= 345600\n"
     ]
    }
   ],
   "source": [
    "days=4\n",
    "minutes=55\n",
    "seconds=7\n",
    "days_seconds=days*24*60*60\n",
    "print('days_seconds=',days_seconds)"
   ]
  },
  {
   "cell_type": "code",
   "execution_count": 59,
   "id": "8c75b64b",
   "metadata": {},
   "outputs": [
    {
     "name": "stdout",
     "output_type": "stream",
     "text": [
      "minutes_seconds: 3300\n"
     ]
    }
   ],
   "source": [
    "minutes_seconds=minutes*60\n",
    "print(\"minutes_seconds:\",minutes_seconds)"
   ]
  },
  {
   "cell_type": "code",
   "execution_count": 60,
   "id": "6eea6379",
   "metadata": {},
   "outputs": [
    {
     "name": "stdout",
     "output_type": "stream",
     "text": [
      "total_vru_seconds: 348907\n"
     ]
    }
   ],
   "source": [
    "total_vru_seconds=days_seconds+minutes_seconds+seconds\n",
    "print(\"total_vru_seconds:\",total_vru_seconds)"
   ]
  },
  {
   "cell_type": "markdown",
   "id": "d3833e79",
   "metadata": {},
   "source": [
    "VRU Call charges: These relate to the usage of VRU facility by RBS customers:\n",
    "Calls handled by VRU are not billed to RBS upto a duration of 120,000 seconds \n",
    "From 120,001st second onwards, VRU calls are charged at EUR 0.5/ second."
   ]
  },
  {
   "cell_type": "code",
   "execution_count": 61,
   "id": "98338fa0",
   "metadata": {},
   "outputs": [
    {
     "name": "stdout",
     "output_type": "stream",
     "text": [
      "vru_charges: 114453.5\n"
     ]
    }
   ],
   "source": [
    "vru_charges=(total_vru_seconds-120000)*0.5\n",
    "print('vru_charges:',vru_charges)"
   ]
  },
  {
   "cell_type": "markdown",
   "id": "e4c73455",
   "metadata": {},
   "source": [
    "### service time charges"
   ]
  },
  {
   "cell_type": "code",
   "execution_count": 62,
   "id": "7d1e97d8",
   "metadata": {},
   "outputs": [
    {
     "data": {
      "text/plain": [
       "Timedelta('39 days 16:56:57')"
      ]
     },
     "execution_count": 62,
     "metadata": {},
     "output_type": "execute_result"
    }
   ],
   "source": [
    "df['ser_time'].sum()"
   ]
  },
  {
   "cell_type": "code",
   "execution_count": 63,
   "id": "3cd60680",
   "metadata": {},
   "outputs": [],
   "source": [
    "days=39\n",
    "hours=16\n",
    "minutes=56\n",
    "seconds=57"
   ]
  },
  {
   "cell_type": "code",
   "execution_count": 64,
   "id": "f9a9b681",
   "metadata": {},
   "outputs": [
    {
     "name": "stdout",
     "output_type": "stream",
     "text": [
      "ser_days_seconds: 3369600\n"
     ]
    }
   ],
   "source": [
    "ser_days_seconds=days*24*60*60\n",
    "print('ser_days_seconds:',ser_days_seconds)"
   ]
  },
  {
   "cell_type": "code",
   "execution_count": 65,
   "id": "f3615210",
   "metadata": {},
   "outputs": [
    {
     "name": "stdout",
     "output_type": "stream",
     "text": [
      "ser_hours_seconds: 57600\n"
     ]
    }
   ],
   "source": [
    "ser_hours_seconds=hours*60*60\n",
    "print(\"ser_hours_seconds:\",ser_hours_seconds)"
   ]
  },
  {
   "cell_type": "code",
   "execution_count": 66,
   "id": "e7a0b7e2",
   "metadata": {},
   "outputs": [
    {
     "name": "stdout",
     "output_type": "stream",
     "text": [
      "ser_minutes_seconds: 3360\n"
     ]
    }
   ],
   "source": [
    "ser_minutes_seconds=minutes*60\n",
    "print(\"ser_minutes_seconds:\",ser_minutes_seconds)"
   ]
  },
  {
   "cell_type": "code",
   "execution_count": 67,
   "id": "c097855d",
   "metadata": {},
   "outputs": [
    {
     "name": "stdout",
     "output_type": "stream",
     "text": [
      "second: 57\n"
     ]
    }
   ],
   "source": [
    "print(\"second:\",seconds)"
   ]
  },
  {
   "cell_type": "code",
   "execution_count": 68,
   "id": "d617217c",
   "metadata": {},
   "outputs": [
    {
     "name": "stdout",
     "output_type": "stream",
     "text": [
      "total_ser_seconds: 3430617\n"
     ]
    }
   ],
   "source": [
    "total_ser_seconds= ser_days_seconds + ser_hours_seconds + ser_minutes_seconds + seconds\n",
    "print(\"total_ser_seconds:\",total_ser_seconds)"
   ]
  },
  {
   "cell_type": "markdown",
   "id": "d38256f5",
   "metadata": {},
   "source": [
    "Service Time Charges: This is the main avenue where CallIn PLC generates majority of revenue from the bank. This relates to calls that are transferred and handled by agents. \n",
    "Upto a total of 30,00,000 seconds, the RBS is billed at EUR 0.5/ second\n",
    "From 30,00,001st minute onwards, the bill is raised at EUR 1/ second.\n"
   ]
  },
  {
   "cell_type": "code",
   "execution_count": 69,
   "id": "060dda02",
   "metadata": {},
   "outputs": [
    {
     "data": {
      "text/plain": [
       "430617"
      ]
     },
     "execution_count": 69,
     "metadata": {},
     "output_type": "execute_result"
    }
   ],
   "source": [
    "EUR1_charge=(total_ser_seconds-3000000)*1\n",
    "EUR1_charge"
   ]
  },
  {
   "cell_type": "code",
   "execution_count": 70,
   "id": "29f220d2",
   "metadata": {},
   "outputs": [
    {
     "data": {
      "text/plain": [
       "1500000.0"
      ]
     },
     "execution_count": 70,
     "metadata": {},
     "output_type": "execute_result"
    }
   ],
   "source": [
    "## upto 3000000 seconds 0.5 EUR charge per seconds\n",
    "EUR_charge=3000000*0.5\n",
    "EUR_charge"
   ]
  },
  {
   "cell_type": "code",
   "execution_count": 71,
   "id": "fb06c13b",
   "metadata": {},
   "outputs": [
    {
     "name": "stdout",
     "output_type": "stream",
     "text": [
      "total_ser_charge: 1930617.0\n"
     ]
    }
   ],
   "source": [
    "total_ser_charge=EUR1_charge+EUR_charge\n",
    "print('total_ser_charge:',total_ser_charge)"
   ]
  },
  {
   "cell_type": "markdown",
   "id": "7b6814a0",
   "metadata": {},
   "source": [
    "### q_penalty"
   ]
  },
  {
   "cell_type": "code",
   "execution_count": 72,
   "id": "b2e38a18",
   "metadata": {},
   "outputs": [
    {
     "data": {
      "text/html": [
       "<div>\n",
       "<style scoped>\n",
       "    .dataframe tbody tr th:only-of-type {\n",
       "        vertical-align: middle;\n",
       "    }\n",
       "\n",
       "    .dataframe tbody tr th {\n",
       "        vertical-align: top;\n",
       "    }\n",
       "\n",
       "    .dataframe thead th {\n",
       "        text-align: right;\n",
       "    }\n",
       "</style>\n",
       "<table border=\"1\" class=\"dataframe\">\n",
       "  <thead>\n",
       "    <tr style=\"text-align: right;\">\n",
       "      <th></th>\n",
       "      <th>vru_plus_line</th>\n",
       "      <th>call_id</th>\n",
       "      <th>customer_id</th>\n",
       "      <th>priority</th>\n",
       "      <th>type</th>\n",
       "      <th>date</th>\n",
       "      <th>vru_entry</th>\n",
       "      <th>vru_exit</th>\n",
       "      <th>q_start</th>\n",
       "      <th>q_exit</th>\n",
       "      <th>outcome</th>\n",
       "      <th>ser_start</th>\n",
       "      <th>ser_exit</th>\n",
       "      <th>server</th>\n",
       "      <th>vru_time</th>\n",
       "      <th>q_time</th>\n",
       "      <th>ser_time</th>\n",
       "    </tr>\n",
       "  </thead>\n",
       "  <tbody>\n",
       "    <tr>\n",
       "      <th>0</th>\n",
       "      <td>AA0101</td>\n",
       "      <td>34536</td>\n",
       "      <td>0.0</td>\n",
       "      <td>1</td>\n",
       "      <td>PS</td>\n",
       "      <td>1999-02-01</td>\n",
       "      <td>0 days 07:02:47</td>\n",
       "      <td>0 days 07:02:56</td>\n",
       "      <td>0 days</td>\n",
       "      <td>0 days</td>\n",
       "      <td>AGENT</td>\n",
       "      <td>0 days 07:02:55</td>\n",
       "      <td>0 days 07:05:41</td>\n",
       "      <td>DORIT</td>\n",
       "      <td>0 days 00:00:09</td>\n",
       "      <td>0 days</td>\n",
       "      <td>0 days 00:02:46</td>\n",
       "    </tr>\n",
       "    <tr>\n",
       "      <th>1</th>\n",
       "      <td>AA0101</td>\n",
       "      <td>34537</td>\n",
       "      <td>0.0</td>\n",
       "      <td>1</td>\n",
       "      <td>PS</td>\n",
       "      <td>1999-02-01</td>\n",
       "      <td>0 days 07:31:45</td>\n",
       "      <td>0 days 07:31:55</td>\n",
       "      <td>0 days</td>\n",
       "      <td>0 days</td>\n",
       "      <td>AGENT</td>\n",
       "      <td>0 days 07:31:54</td>\n",
       "      <td>0 days 07:31:59</td>\n",
       "      <td>NO_SERVER</td>\n",
       "      <td>0 days 00:00:10</td>\n",
       "      <td>0 days</td>\n",
       "      <td>0 days 00:00:05</td>\n",
       "    </tr>\n",
       "  </tbody>\n",
       "</table>\n",
       "</div>"
      ],
      "text/plain": [
       "  vru_plus_line  call_id  customer_id  priority type        date  \\\n",
       "0        AA0101    34536          0.0         1   PS  1999-02-01   \n",
       "1        AA0101    34537          0.0         1   PS  1999-02-01   \n",
       "\n",
       "        vru_entry        vru_exit q_start q_exit outcome       ser_start  \\\n",
       "0 0 days 07:02:47 0 days 07:02:56  0 days 0 days   AGENT 0 days 07:02:55   \n",
       "1 0 days 07:31:45 0 days 07:31:55  0 days 0 days   AGENT 0 days 07:31:54   \n",
       "\n",
       "         ser_exit     server        vru_time q_time        ser_time  \n",
       "0 0 days 07:05:41      DORIT 0 days 00:00:09 0 days 0 days 00:02:46  \n",
       "1 0 days 07:31:59  NO_SERVER 0 days 00:00:10 0 days 0 days 00:00:05  "
      ]
     },
     "execution_count": 72,
     "metadata": {},
     "output_type": "execute_result"
    }
   ],
   "source": [
    "df.head(2)"
   ]
  },
  {
   "cell_type": "code",
   "execution_count": 73,
   "id": "a232d349",
   "metadata": {},
   "outputs": [
    {
     "data": {
      "text/plain": [
       "Timedelta('14 days 03:04:59')"
      ]
     },
     "execution_count": 73,
     "metadata": {},
     "output_type": "execute_result"
    }
   ],
   "source": [
    "df['q_time'].sum()"
   ]
  },
  {
   "cell_type": "code",
   "execution_count": 74,
   "id": "536500e8",
   "metadata": {
    "scrolled": true
   },
   "outputs": [
    {
     "data": {
      "text/html": [
       "<div>\n",
       "<style scoped>\n",
       "    .dataframe tbody tr th:only-of-type {\n",
       "        vertical-align: middle;\n",
       "    }\n",
       "\n",
       "    .dataframe tbody tr th {\n",
       "        vertical-align: top;\n",
       "    }\n",
       "\n",
       "    .dataframe thead th {\n",
       "        text-align: right;\n",
       "    }\n",
       "</style>\n",
       "<table border=\"1\" class=\"dataframe\">\n",
       "  <thead>\n",
       "    <tr style=\"text-align: right;\">\n",
       "      <th></th>\n",
       "      <th>vru_plus_line</th>\n",
       "      <th>call_id</th>\n",
       "      <th>customer_id</th>\n",
       "      <th>priority</th>\n",
       "      <th>type</th>\n",
       "      <th>date</th>\n",
       "      <th>vru_entry</th>\n",
       "      <th>vru_exit</th>\n",
       "      <th>q_start</th>\n",
       "      <th>q_exit</th>\n",
       "      <th>outcome</th>\n",
       "      <th>ser_start</th>\n",
       "      <th>ser_exit</th>\n",
       "      <th>server</th>\n",
       "      <th>vru_time</th>\n",
       "      <th>q_time</th>\n",
       "      <th>ser_time</th>\n",
       "    </tr>\n",
       "  </thead>\n",
       "  <tbody>\n",
       "    <tr>\n",
       "      <th>0</th>\n",
       "      <td>AA0101</td>\n",
       "      <td>34536</td>\n",
       "      <td>0.0</td>\n",
       "      <td>1</td>\n",
       "      <td>PS</td>\n",
       "      <td>1999-02-01</td>\n",
       "      <td>0 days 07:02:47</td>\n",
       "      <td>0 days 07:02:56</td>\n",
       "      <td>0 days 00:00:00</td>\n",
       "      <td>0 days 00:00:00</td>\n",
       "      <td>AGENT</td>\n",
       "      <td>0 days 07:02:55</td>\n",
       "      <td>0 days 07:05:41</td>\n",
       "      <td>DORIT</td>\n",
       "      <td>0 days 00:00:09</td>\n",
       "      <td>0 days 00:00:00</td>\n",
       "      <td>0 days 00:02:46</td>\n",
       "    </tr>\n",
       "    <tr>\n",
       "      <th>1</th>\n",
       "      <td>AA0101</td>\n",
       "      <td>34537</td>\n",
       "      <td>0.0</td>\n",
       "      <td>1</td>\n",
       "      <td>PS</td>\n",
       "      <td>1999-02-01</td>\n",
       "      <td>0 days 07:31:45</td>\n",
       "      <td>0 days 07:31:55</td>\n",
       "      <td>0 days 00:00:00</td>\n",
       "      <td>0 days 00:00:00</td>\n",
       "      <td>AGENT</td>\n",
       "      <td>0 days 07:31:54</td>\n",
       "      <td>0 days 07:31:59</td>\n",
       "      <td>NO_SERVER</td>\n",
       "      <td>0 days 00:00:10</td>\n",
       "      <td>0 days 00:00:00</td>\n",
       "      <td>0 days 00:00:05</td>\n",
       "    </tr>\n",
       "    <tr>\n",
       "      <th>2</th>\n",
       "      <td>AA0101</td>\n",
       "      <td>34538</td>\n",
       "      <td>0.0</td>\n",
       "      <td>1</td>\n",
       "      <td>NW</td>\n",
       "      <td>1999-02-01</td>\n",
       "      <td>0 days 07:54:38</td>\n",
       "      <td>0 days 07:54:51</td>\n",
       "      <td>0 days 00:00:00</td>\n",
       "      <td>0 days 00:00:00</td>\n",
       "      <td>AGENT</td>\n",
       "      <td>0 days 07:54:49</td>\n",
       "      <td>0 days 07:56:21</td>\n",
       "      <td>TOVA</td>\n",
       "      <td>0 days 00:00:13</td>\n",
       "      <td>0 days 00:00:00</td>\n",
       "      <td>0 days 00:01:32</td>\n",
       "    </tr>\n",
       "    <tr>\n",
       "      <th>3</th>\n",
       "      <td>AA0101</td>\n",
       "      <td>34539</td>\n",
       "      <td>23317894.0</td>\n",
       "      <td>2</td>\n",
       "      <td>PS</td>\n",
       "      <td>1999-02-01</td>\n",
       "      <td>0 days 08:09:16</td>\n",
       "      <td>0 days 08:09:22</td>\n",
       "      <td>0 days 08:09:22</td>\n",
       "      <td>0 days 08:09:27</td>\n",
       "      <td>HANG</td>\n",
       "      <td>0 days 00:00:00</td>\n",
       "      <td>0 days 00:00:00</td>\n",
       "      <td>NO_SERVER</td>\n",
       "      <td>0 days 00:00:06</td>\n",
       "      <td>0 days 00:00:05</td>\n",
       "      <td>0 days 00:00:00</td>\n",
       "    </tr>\n",
       "    <tr>\n",
       "      <th>4</th>\n",
       "      <td>AA0101</td>\n",
       "      <td>34540</td>\n",
       "      <td>48178511.0</td>\n",
       "      <td>2</td>\n",
       "      <td>PS</td>\n",
       "      <td>1999-02-01</td>\n",
       "      <td>0 days 08:19:42</td>\n",
       "      <td>0 days 08:19:47</td>\n",
       "      <td>0 days 08:19:47</td>\n",
       "      <td>0 days 08:20:21</td>\n",
       "      <td>AGENT</td>\n",
       "      <td>0 days 08:20:20</td>\n",
       "      <td>0 days 08:22:04</td>\n",
       "      <td>MICHAL</td>\n",
       "      <td>0 days 00:00:05</td>\n",
       "      <td>0 days 00:00:34</td>\n",
       "      <td>0 days 00:01:44</td>\n",
       "    </tr>\n",
       "  </tbody>\n",
       "</table>\n",
       "</div>"
      ],
      "text/plain": [
       "  vru_plus_line  call_id  customer_id  priority type        date  \\\n",
       "0        AA0101    34536          0.0         1   PS  1999-02-01   \n",
       "1        AA0101    34537          0.0         1   PS  1999-02-01   \n",
       "2        AA0101    34538          0.0         1   NW  1999-02-01   \n",
       "3        AA0101    34539   23317894.0         2   PS  1999-02-01   \n",
       "4        AA0101    34540   48178511.0         2   PS  1999-02-01   \n",
       "\n",
       "        vru_entry        vru_exit         q_start          q_exit outcome  \\\n",
       "0 0 days 07:02:47 0 days 07:02:56 0 days 00:00:00 0 days 00:00:00   AGENT   \n",
       "1 0 days 07:31:45 0 days 07:31:55 0 days 00:00:00 0 days 00:00:00   AGENT   \n",
       "2 0 days 07:54:38 0 days 07:54:51 0 days 00:00:00 0 days 00:00:00   AGENT   \n",
       "3 0 days 08:09:16 0 days 08:09:22 0 days 08:09:22 0 days 08:09:27    HANG   \n",
       "4 0 days 08:19:42 0 days 08:19:47 0 days 08:19:47 0 days 08:20:21   AGENT   \n",
       "\n",
       "        ser_start        ser_exit     server        vru_time          q_time  \\\n",
       "0 0 days 07:02:55 0 days 07:05:41      DORIT 0 days 00:00:09 0 days 00:00:00   \n",
       "1 0 days 07:31:54 0 days 07:31:59  NO_SERVER 0 days 00:00:10 0 days 00:00:00   \n",
       "2 0 days 07:54:49 0 days 07:56:21       TOVA 0 days 00:00:13 0 days 00:00:00   \n",
       "3 0 days 00:00:00 0 days 00:00:00  NO_SERVER 0 days 00:00:06 0 days 00:00:05   \n",
       "4 0 days 08:20:20 0 days 08:22:04     MICHAL 0 days 00:00:05 0 days 00:00:34   \n",
       "\n",
       "         ser_time  \n",
       "0 0 days 00:02:46  \n",
       "1 0 days 00:00:05  \n",
       "2 0 days 00:01:32  \n",
       "3 0 days 00:00:00  \n",
       "4 0 days 00:01:44  "
      ]
     },
     "execution_count": 74,
     "metadata": {},
     "output_type": "execute_result"
    }
   ],
   "source": [
    "q_df=df[(df['q_time'] <= '0 days 00:01:00')]\n",
    "q_df.head()"
   ]
  },
  {
   "cell_type": "code",
   "execution_count": 75,
   "id": "6c74efd4",
   "metadata": {},
   "outputs": [
    {
     "data": {
      "text/plain": [
       "(25497, 17)"
      ]
     },
     "execution_count": 75,
     "metadata": {},
     "output_type": "execute_result"
    }
   ],
   "source": [
    "q_df.shape"
   ]
  },
  {
   "cell_type": "code",
   "execution_count": 76,
   "id": "7aa027ac",
   "metadata": {},
   "outputs": [
    {
     "data": {
      "text/plain": [
       "Timedelta('1 days 06:28:41')"
      ]
     },
     "execution_count": 76,
     "metadata": {},
     "output_type": "execute_result"
    }
   ],
   "source": [
    "q_df['q_time'].sum()"
   ]
  },
  {
   "cell_type": "code",
   "execution_count": 77,
   "id": "36112c9e",
   "metadata": {},
   "outputs": [
    {
     "data": {
      "text/html": [
       "<div>\n",
       "<style scoped>\n",
       "    .dataframe tbody tr th:only-of-type {\n",
       "        vertical-align: middle;\n",
       "    }\n",
       "\n",
       "    .dataframe tbody tr th {\n",
       "        vertical-align: top;\n",
       "    }\n",
       "\n",
       "    .dataframe thead th {\n",
       "        text-align: right;\n",
       "    }\n",
       "</style>\n",
       "<table border=\"1\" class=\"dataframe\">\n",
       "  <thead>\n",
       "    <tr style=\"text-align: right;\">\n",
       "      <th></th>\n",
       "      <th>vru_plus_line</th>\n",
       "      <th>call_id</th>\n",
       "      <th>customer_id</th>\n",
       "      <th>priority</th>\n",
       "      <th>type</th>\n",
       "      <th>date</th>\n",
       "      <th>vru_entry</th>\n",
       "      <th>vru_exit</th>\n",
       "      <th>q_start</th>\n",
       "      <th>q_exit</th>\n",
       "      <th>outcome</th>\n",
       "      <th>ser_start</th>\n",
       "      <th>ser_exit</th>\n",
       "      <th>server</th>\n",
       "      <th>vru_time</th>\n",
       "      <th>q_time</th>\n",
       "      <th>ser_time</th>\n",
       "    </tr>\n",
       "  </thead>\n",
       "  <tbody>\n",
       "    <tr>\n",
       "      <th>5</th>\n",
       "      <td>AA0101</td>\n",
       "      <td>34541</td>\n",
       "      <td>64852437.0</td>\n",
       "      <td>2</td>\n",
       "      <td>PS</td>\n",
       "      <td>1999-02-01</td>\n",
       "      <td>0 days 08:29:06</td>\n",
       "      <td>0 days 08:29:12</td>\n",
       "      <td>0 days 08:29:12</td>\n",
       "      <td>0 days 08:30:20</td>\n",
       "      <td>AGENT</td>\n",
       "      <td>0 days 08:30:19</td>\n",
       "      <td>0 days 08:35:13</td>\n",
       "      <td>KAZAV</td>\n",
       "      <td>0 days 00:00:06</td>\n",
       "      <td>0 days 00:01:08</td>\n",
       "      <td>0 days 00:04:54</td>\n",
       "    </tr>\n",
       "    <tr>\n",
       "      <th>15</th>\n",
       "      <td>AA0101</td>\n",
       "      <td>34551</td>\n",
       "      <td>56346398.0</td>\n",
       "      <td>1</td>\n",
       "      <td>PS</td>\n",
       "      <td>1999-02-01</td>\n",
       "      <td>0 days 10:03:42</td>\n",
       "      <td>0 days 10:03:48</td>\n",
       "      <td>0 days 10:03:48</td>\n",
       "      <td>0 days 10:06:10</td>\n",
       "      <td>AGENT</td>\n",
       "      <td>0 days 10:06:09</td>\n",
       "      <td>0 days 10:08:20</td>\n",
       "      <td>MICHAL</td>\n",
       "      <td>0 days 00:00:06</td>\n",
       "      <td>0 days 00:02:22</td>\n",
       "      <td>0 days 00:02:11</td>\n",
       "    </tr>\n",
       "    <tr>\n",
       "      <th>22</th>\n",
       "      <td>AA0101</td>\n",
       "      <td>34558</td>\n",
       "      <td>9288283.0</td>\n",
       "      <td>2</td>\n",
       "      <td>PS</td>\n",
       "      <td>1999-02-01</td>\n",
       "      <td>0 days 11:17:50</td>\n",
       "      <td>0 days 11:17:56</td>\n",
       "      <td>0 days 11:17:56</td>\n",
       "      <td>0 days 11:20:34</td>\n",
       "      <td>AGENT</td>\n",
       "      <td>0 days 11:20:33</td>\n",
       "      <td>0 days 11:22:10</td>\n",
       "      <td>YITZ</td>\n",
       "      <td>0 days 00:00:06</td>\n",
       "      <td>0 days 00:02:38</td>\n",
       "      <td>0 days 00:01:37</td>\n",
       "    </tr>\n",
       "    <tr>\n",
       "      <th>31</th>\n",
       "      <td>AA0101</td>\n",
       "      <td>34567</td>\n",
       "      <td>79746376.0</td>\n",
       "      <td>1</td>\n",
       "      <td>PS</td>\n",
       "      <td>1999-02-01</td>\n",
       "      <td>0 days 13:07:27</td>\n",
       "      <td>0 days 13:07:32</td>\n",
       "      <td>0 days 13:07:32</td>\n",
       "      <td>0 days 13:09:13</td>\n",
       "      <td>AGENT</td>\n",
       "      <td>0 days 13:09:12</td>\n",
       "      <td>0 days 13:12:43</td>\n",
       "      <td>ANAT</td>\n",
       "      <td>0 days 00:00:05</td>\n",
       "      <td>0 days 00:01:41</td>\n",
       "      <td>0 days 00:03:31</td>\n",
       "    </tr>\n",
       "    <tr>\n",
       "      <th>39</th>\n",
       "      <td>AA0101</td>\n",
       "      <td>34575</td>\n",
       "      <td>23571557.0</td>\n",
       "      <td>1</td>\n",
       "      <td>PS</td>\n",
       "      <td>1999-02-01</td>\n",
       "      <td>0 days 14:45:11</td>\n",
       "      <td>0 days 14:45:17</td>\n",
       "      <td>0 days 14:45:17</td>\n",
       "      <td>0 days 14:46:23</td>\n",
       "      <td>AGENT</td>\n",
       "      <td>0 days 14:46:21</td>\n",
       "      <td>0 days 14:47:19</td>\n",
       "      <td>MICHAL</td>\n",
       "      <td>0 days 00:00:06</td>\n",
       "      <td>0 days 00:01:06</td>\n",
       "      <td>0 days 00:00:58</td>\n",
       "    </tr>\n",
       "  </tbody>\n",
       "</table>\n",
       "</div>"
      ],
      "text/plain": [
       "   vru_plus_line  call_id  customer_id  priority type        date  \\\n",
       "5         AA0101    34541   64852437.0         2   PS  1999-02-01   \n",
       "15        AA0101    34551   56346398.0         1   PS  1999-02-01   \n",
       "22        AA0101    34558    9288283.0         2   PS  1999-02-01   \n",
       "31        AA0101    34567   79746376.0         1   PS  1999-02-01   \n",
       "39        AA0101    34575   23571557.0         1   PS  1999-02-01   \n",
       "\n",
       "         vru_entry        vru_exit         q_start          q_exit outcome  \\\n",
       "5  0 days 08:29:06 0 days 08:29:12 0 days 08:29:12 0 days 08:30:20   AGENT   \n",
       "15 0 days 10:03:42 0 days 10:03:48 0 days 10:03:48 0 days 10:06:10   AGENT   \n",
       "22 0 days 11:17:50 0 days 11:17:56 0 days 11:17:56 0 days 11:20:34   AGENT   \n",
       "31 0 days 13:07:27 0 days 13:07:32 0 days 13:07:32 0 days 13:09:13   AGENT   \n",
       "39 0 days 14:45:11 0 days 14:45:17 0 days 14:45:17 0 days 14:46:23   AGENT   \n",
       "\n",
       "         ser_start        ser_exit  server        vru_time          q_time  \\\n",
       "5  0 days 08:30:19 0 days 08:35:13   KAZAV 0 days 00:00:06 0 days 00:01:08   \n",
       "15 0 days 10:06:09 0 days 10:08:20  MICHAL 0 days 00:00:06 0 days 00:02:22   \n",
       "22 0 days 11:20:33 0 days 11:22:10    YITZ 0 days 00:00:06 0 days 00:02:38   \n",
       "31 0 days 13:09:12 0 days 13:12:43    ANAT 0 days 00:00:05 0 days 00:01:41   \n",
       "39 0 days 14:46:21 0 days 14:47:19  MICHAL 0 days 00:00:06 0 days 00:01:06   \n",
       "\n",
       "          ser_time  \n",
       "5  0 days 00:04:54  \n",
       "15 0 days 00:02:11  \n",
       "22 0 days 00:01:37  \n",
       "31 0 days 00:03:31  \n",
       "39 0 days 00:00:58  "
      ]
     },
     "execution_count": 77,
     "metadata": {},
     "output_type": "execute_result"
    }
   ],
   "source": [
    "q_df1=df[(df['q_time'] > '0 days 00:01:00') & (df['q_time'] <= '0 days 00:03:00')]\n",
    "q_df1.head()"
   ]
  },
  {
   "cell_type": "code",
   "execution_count": 78,
   "id": "ad78f92c",
   "metadata": {},
   "outputs": [
    {
     "data": {
      "text/plain": [
       "(6036, 17)"
      ]
     },
     "execution_count": 78,
     "metadata": {},
     "output_type": "execute_result"
    }
   ],
   "source": [
    "q_df1.shape"
   ]
  },
  {
   "cell_type": "code",
   "execution_count": 79,
   "id": "915638af",
   "metadata": {},
   "outputs": [
    {
     "data": {
      "text/plain": [
       "Timedelta('7 days 10:36:51')"
      ]
     },
     "execution_count": 79,
     "metadata": {},
     "output_type": "execute_result"
    }
   ],
   "source": [
    "q_df1['q_time'].sum()"
   ]
  },
  {
   "cell_type": "code",
   "execution_count": 80,
   "id": "ebe82dcd",
   "metadata": {},
   "outputs": [
    {
     "name": "stdout",
     "output_type": "stream",
     "text": [
      "days_total_minutes: 10080\n",
      "hours_minutes: 600\n",
      "minutes: 36\n",
      "total_minutes: 10716\n",
      "q penalty 0.5 EUR per minutes for q_time > 1 and <= 3 minutes: 5358.0\n"
     ]
    }
   ],
   "source": [
    "days=7\n",
    "hours=10\n",
    "minutes=36\n",
    "days_total_minutes=days*24*60\n",
    "print(\"days_total_minutes:\",days_total_minutes)\n",
    "hours_minutes=hours*60\n",
    "print(\"hours_minutes:\",hours_minutes)\n",
    "print(\"minutes:\",minutes)\n",
    "total_minutes=days_total_minutes+hours_minutes+minutes\n",
    "print(\"total_minutes:\",total_minutes)\n",
    "print(\"q penalty 0.5 EUR per minutes for q_time > 1 and <= 3 minutes:\",total_minutes * 0.5)"
   ]
  },
  {
   "cell_type": "code",
   "execution_count": 81,
   "id": "1ea43932",
   "metadata": {},
   "outputs": [
    {
     "data": {
      "text/html": [
       "<div>\n",
       "<style scoped>\n",
       "    .dataframe tbody tr th:only-of-type {\n",
       "        vertical-align: middle;\n",
       "    }\n",
       "\n",
       "    .dataframe tbody tr th {\n",
       "        vertical-align: top;\n",
       "    }\n",
       "\n",
       "    .dataframe thead th {\n",
       "        text-align: right;\n",
       "    }\n",
       "</style>\n",
       "<table border=\"1\" class=\"dataframe\">\n",
       "  <thead>\n",
       "    <tr style=\"text-align: right;\">\n",
       "      <th></th>\n",
       "      <th>vru_plus_line</th>\n",
       "      <th>call_id</th>\n",
       "      <th>customer_id</th>\n",
       "      <th>priority</th>\n",
       "      <th>type</th>\n",
       "      <th>date</th>\n",
       "      <th>vru_entry</th>\n",
       "      <th>vru_exit</th>\n",
       "      <th>q_start</th>\n",
       "      <th>q_exit</th>\n",
       "      <th>outcome</th>\n",
       "      <th>ser_start</th>\n",
       "      <th>ser_exit</th>\n",
       "      <th>server</th>\n",
       "      <th>vru_time</th>\n",
       "      <th>q_time</th>\n",
       "      <th>ser_time</th>\n",
       "    </tr>\n",
       "  </thead>\n",
       "  <tbody>\n",
       "    <tr>\n",
       "      <th>44</th>\n",
       "      <td>AA0101</td>\n",
       "      <td>34580</td>\n",
       "      <td>0.0</td>\n",
       "      <td>1</td>\n",
       "      <td>NW</td>\n",
       "      <td>1999-02-01</td>\n",
       "      <td>0 days 15:56:21</td>\n",
       "      <td>0 days 15:56:30</td>\n",
       "      <td>0 days 15:56:30</td>\n",
       "      <td>0 days 15:59:53</td>\n",
       "      <td>AGENT</td>\n",
       "      <td>0 days 15:59:52</td>\n",
       "      <td>0 days 16:02:33</td>\n",
       "      <td>AVNI</td>\n",
       "      <td>0 days 00:00:09</td>\n",
       "      <td>0 days 00:03:23</td>\n",
       "      <td>0 days 00:02:41</td>\n",
       "    </tr>\n",
       "    <tr>\n",
       "      <th>52</th>\n",
       "      <td>AA0101</td>\n",
       "      <td>34588</td>\n",
       "      <td>33966326.0</td>\n",
       "      <td>1</td>\n",
       "      <td>PS</td>\n",
       "      <td>1999-02-01</td>\n",
       "      <td>0 days 18:11:02</td>\n",
       "      <td>0 days 18:11:08</td>\n",
       "      <td>0 days 18:11:08</td>\n",
       "      <td>0 days 18:15:31</td>\n",
       "      <td>AGENT</td>\n",
       "      <td>0 days 18:15:31</td>\n",
       "      <td>0 days 18:16:53</td>\n",
       "      <td>IDIT</td>\n",
       "      <td>0 days 00:00:06</td>\n",
       "      <td>0 days 00:04:23</td>\n",
       "      <td>0 days 00:01:22</td>\n",
       "    </tr>\n",
       "    <tr>\n",
       "      <th>53</th>\n",
       "      <td>AA0101</td>\n",
       "      <td>34589</td>\n",
       "      <td>69607026.0</td>\n",
       "      <td>1</td>\n",
       "      <td>PS</td>\n",
       "      <td>1999-02-01</td>\n",
       "      <td>0 days 18:25:46</td>\n",
       "      <td>0 days 18:25:52</td>\n",
       "      <td>0 days 18:25:52</td>\n",
       "      <td>0 days 18:28:59</td>\n",
       "      <td>AGENT</td>\n",
       "      <td>0 days 18:28:58</td>\n",
       "      <td>0 days 18:29:06</td>\n",
       "      <td>ANAT</td>\n",
       "      <td>0 days 00:00:06</td>\n",
       "      <td>0 days 00:03:07</td>\n",
       "      <td>0 days 00:00:08</td>\n",
       "    </tr>\n",
       "    <tr>\n",
       "      <th>93</th>\n",
       "      <td>AA0101</td>\n",
       "      <td>34631</td>\n",
       "      <td>0.0</td>\n",
       "      <td>1</td>\n",
       "      <td>NW</td>\n",
       "      <td>1999-02-02</td>\n",
       "      <td>0 days 10:42:03</td>\n",
       "      <td>0 days 10:42:12</td>\n",
       "      <td>0 days 10:42:12</td>\n",
       "      <td>0 days 10:46:42</td>\n",
       "      <td>AGENT</td>\n",
       "      <td>0 days 10:46:40</td>\n",
       "      <td>0 days 10:47:10</td>\n",
       "      <td>IDIT</td>\n",
       "      <td>0 days 00:00:09</td>\n",
       "      <td>0 days 00:04:30</td>\n",
       "      <td>0 days 00:00:30</td>\n",
       "    </tr>\n",
       "    <tr>\n",
       "      <th>147</th>\n",
       "      <td>AA0101</td>\n",
       "      <td>34686</td>\n",
       "      <td>28842599.0</td>\n",
       "      <td>1</td>\n",
       "      <td>PS</td>\n",
       "      <td>1999-02-02</td>\n",
       "      <td>0 days 20:26:56</td>\n",
       "      <td>0 days 20:27:02</td>\n",
       "      <td>0 days 20:27:02</td>\n",
       "      <td>0 days 20:31:09</td>\n",
       "      <td>AGENT</td>\n",
       "      <td>0 days 20:31:08</td>\n",
       "      <td>0 days 20:32:26</td>\n",
       "      <td>SHARON</td>\n",
       "      <td>0 days 00:00:06</td>\n",
       "      <td>0 days 00:04:07</td>\n",
       "      <td>0 days 00:01:18</td>\n",
       "    </tr>\n",
       "  </tbody>\n",
       "</table>\n",
       "</div>"
      ],
      "text/plain": [
       "    vru_plus_line  call_id  customer_id  priority type        date  \\\n",
       "44         AA0101    34580          0.0         1   NW  1999-02-01   \n",
       "52         AA0101    34588   33966326.0         1   PS  1999-02-01   \n",
       "53         AA0101    34589   69607026.0         1   PS  1999-02-01   \n",
       "93         AA0101    34631          0.0         1   NW  1999-02-02   \n",
       "147        AA0101    34686   28842599.0         1   PS  1999-02-02   \n",
       "\n",
       "          vru_entry        vru_exit         q_start          q_exit outcome  \\\n",
       "44  0 days 15:56:21 0 days 15:56:30 0 days 15:56:30 0 days 15:59:53   AGENT   \n",
       "52  0 days 18:11:02 0 days 18:11:08 0 days 18:11:08 0 days 18:15:31   AGENT   \n",
       "53  0 days 18:25:46 0 days 18:25:52 0 days 18:25:52 0 days 18:28:59   AGENT   \n",
       "93  0 days 10:42:03 0 days 10:42:12 0 days 10:42:12 0 days 10:46:42   AGENT   \n",
       "147 0 days 20:26:56 0 days 20:27:02 0 days 20:27:02 0 days 20:31:09   AGENT   \n",
       "\n",
       "          ser_start        ser_exit  server        vru_time          q_time  \\\n",
       "44  0 days 15:59:52 0 days 16:02:33    AVNI 0 days 00:00:09 0 days 00:03:23   \n",
       "52  0 days 18:15:31 0 days 18:16:53    IDIT 0 days 00:00:06 0 days 00:04:23   \n",
       "53  0 days 18:28:58 0 days 18:29:06    ANAT 0 days 00:00:06 0 days 00:03:07   \n",
       "93  0 days 10:46:40 0 days 10:47:10    IDIT 0 days 00:00:09 0 days 00:04:30   \n",
       "147 0 days 20:31:08 0 days 20:32:26  SHARON 0 days 00:00:06 0 days 00:04:07   \n",
       "\n",
       "           ser_time  \n",
       "44  0 days 00:02:41  \n",
       "52  0 days 00:01:22  \n",
       "53  0 days 00:00:08  \n",
       "93  0 days 00:00:30  \n",
       "147 0 days 00:01:18  "
      ]
     },
     "execution_count": 81,
     "metadata": {},
     "output_type": "execute_result"
    }
   ],
   "source": [
    "q_df2=df[(df['q_time'] > '0 days 00:03:00') & (df['q_time'] <= '0 days 00:05:00')]\n",
    "q_df2.head()"
   ]
  },
  {
   "cell_type": "code",
   "execution_count": 82,
   "id": "e6988fd1",
   "metadata": {},
   "outputs": [
    {
     "data": {
      "text/plain": [
       "(1427, 17)"
      ]
     },
     "execution_count": 82,
     "metadata": {},
     "output_type": "execute_result"
    }
   ],
   "source": [
    "q_df2.shape"
   ]
  },
  {
   "cell_type": "code",
   "execution_count": 83,
   "id": "fc76066f",
   "metadata": {},
   "outputs": [
    {
     "data": {
      "text/plain": [
       "Timedelta('3 days 17:45:59')"
      ]
     },
     "execution_count": 83,
     "metadata": {},
     "output_type": "execute_result"
    }
   ],
   "source": [
    "q_df2['q_time'].sum()"
   ]
  },
  {
   "cell_type": "code",
   "execution_count": 84,
   "id": "fc4bde95",
   "metadata": {},
   "outputs": [
    {
     "name": "stdout",
     "output_type": "stream",
     "text": [
      "days_total_minutes: 4320\n",
      "hours_minutes: 1020\n",
      "minutes: 45\n",
      "total_minutes: 5385\n",
      "q penalty 1EUR per minutes for q_time > 3 and <= 5 minutes: 5385\n"
     ]
    }
   ],
   "source": [
    "days=3\n",
    "hours=17\n",
    "minutes=45\n",
    "days_total_minutes=days*24*60\n",
    "print(\"days_total_minutes:\",days_total_minutes)\n",
    "hours_minutes=hours*60\n",
    "print(\"hours_minutes:\",hours_minutes)\n",
    "print(\"minutes:\",minutes)\n",
    "total_minutes=days_total_minutes+hours_minutes+minutes\n",
    "print(\"total_minutes:\",total_minutes)\n",
    "print(\"q penalty 1EUR per minutes for q_time > 3 and <= 5 minutes:\",total_minutes * 1)"
   ]
  },
  {
   "cell_type": "code",
   "execution_count": 85,
   "id": "eb466e5f",
   "metadata": {},
   "outputs": [
    {
     "data": {
      "text/html": [
       "<div>\n",
       "<style scoped>\n",
       "    .dataframe tbody tr th:only-of-type {\n",
       "        vertical-align: middle;\n",
       "    }\n",
       "\n",
       "    .dataframe tbody tr th {\n",
       "        vertical-align: top;\n",
       "    }\n",
       "\n",
       "    .dataframe thead th {\n",
       "        text-align: right;\n",
       "    }\n",
       "</style>\n",
       "<table border=\"1\" class=\"dataframe\">\n",
       "  <thead>\n",
       "    <tr style=\"text-align: right;\">\n",
       "      <th></th>\n",
       "      <th>vru_plus_line</th>\n",
       "      <th>call_id</th>\n",
       "      <th>customer_id</th>\n",
       "      <th>priority</th>\n",
       "      <th>type</th>\n",
       "      <th>date</th>\n",
       "      <th>vru_entry</th>\n",
       "      <th>vru_exit</th>\n",
       "      <th>q_start</th>\n",
       "      <th>q_exit</th>\n",
       "      <th>outcome</th>\n",
       "      <th>ser_start</th>\n",
       "      <th>ser_exit</th>\n",
       "      <th>server</th>\n",
       "      <th>vru_time</th>\n",
       "      <th>q_time</th>\n",
       "      <th>ser_time</th>\n",
       "    </tr>\n",
       "  </thead>\n",
       "  <tbody>\n",
       "    <tr>\n",
       "      <th>211</th>\n",
       "      <td>AA0101</td>\n",
       "      <td>34752</td>\n",
       "      <td>0.0</td>\n",
       "      <td>1</td>\n",
       "      <td>NW</td>\n",
       "      <td>1999-02-03</td>\n",
       "      <td>0 days 14:08:10</td>\n",
       "      <td>0 days 14:08:19</td>\n",
       "      <td>0 days 14:08:19</td>\n",
       "      <td>0 days 14:14:18</td>\n",
       "      <td>AGENT</td>\n",
       "      <td>0 days 14:14:17</td>\n",
       "      <td>0 days 14:16:44</td>\n",
       "      <td>IDIT</td>\n",
       "      <td>0 days 00:00:09</td>\n",
       "      <td>0 days 00:05:59</td>\n",
       "      <td>0 days 00:02:27</td>\n",
       "    </tr>\n",
       "    <tr>\n",
       "      <th>371</th>\n",
       "      <td>AA0101</td>\n",
       "      <td>34912</td>\n",
       "      <td>0.0</td>\n",
       "      <td>1</td>\n",
       "      <td>NW</td>\n",
       "      <td>1999-02-07</td>\n",
       "      <td>0 days 08:51:00</td>\n",
       "      <td>0 days 08:51:09</td>\n",
       "      <td>0 days 08:51:09</td>\n",
       "      <td>0 days 08:58:27</td>\n",
       "      <td>AGENT</td>\n",
       "      <td>0 days 08:58:26</td>\n",
       "      <td>0 days 09:00:40</td>\n",
       "      <td>AVNI</td>\n",
       "      <td>0 days 00:00:09</td>\n",
       "      <td>0 days 00:07:18</td>\n",
       "      <td>0 days 00:02:14</td>\n",
       "    </tr>\n",
       "    <tr>\n",
       "      <th>401</th>\n",
       "      <td>AA0101</td>\n",
       "      <td>34942</td>\n",
       "      <td>0.0</td>\n",
       "      <td>1</td>\n",
       "      <td>NW</td>\n",
       "      <td>1999-02-07</td>\n",
       "      <td>0 days 13:57:02</td>\n",
       "      <td>0 days 13:57:12</td>\n",
       "      <td>0 days 13:57:12</td>\n",
       "      <td>0 days 14:02:34</td>\n",
       "      <td>HANG</td>\n",
       "      <td>0 days 00:00:00</td>\n",
       "      <td>0 days 00:00:00</td>\n",
       "      <td>NO_SERVER</td>\n",
       "      <td>0 days 00:00:10</td>\n",
       "      <td>0 days 00:05:22</td>\n",
       "      <td>0 days 00:00:00</td>\n",
       "    </tr>\n",
       "    <tr>\n",
       "      <th>621</th>\n",
       "      <td>AA0101</td>\n",
       "      <td>35163</td>\n",
       "      <td>0.0</td>\n",
       "      <td>1</td>\n",
       "      <td>NW</td>\n",
       "      <td>1999-02-10</td>\n",
       "      <td>0 days 11:18:23</td>\n",
       "      <td>0 days 11:18:32</td>\n",
       "      <td>0 days 11:18:32</td>\n",
       "      <td>0 days 11:23:50</td>\n",
       "      <td>AGENT</td>\n",
       "      <td>0 days 11:23:49</td>\n",
       "      <td>0 days 11:24:38</td>\n",
       "      <td>YIFAT</td>\n",
       "      <td>0 days 00:00:09</td>\n",
       "      <td>0 days 00:05:18</td>\n",
       "      <td>0 days 00:00:49</td>\n",
       "    </tr>\n",
       "    <tr>\n",
       "      <th>694</th>\n",
       "      <td>AA0101</td>\n",
       "      <td>35238</td>\n",
       "      <td>69687275.0</td>\n",
       "      <td>2</td>\n",
       "      <td>NE</td>\n",
       "      <td>1999-02-11</td>\n",
       "      <td>0 days 10:03:00</td>\n",
       "      <td>0 days 10:03:05</td>\n",
       "      <td>0 days 10:03:05</td>\n",
       "      <td>0 days 10:09:03</td>\n",
       "      <td>AGENT</td>\n",
       "      <td>0 days 10:09:02</td>\n",
       "      <td>0 days 10:14:49</td>\n",
       "      <td>AVNI</td>\n",
       "      <td>0 days 00:00:05</td>\n",
       "      <td>0 days 00:05:58</td>\n",
       "      <td>0 days 00:05:47</td>\n",
       "    </tr>\n",
       "  </tbody>\n",
       "</table>\n",
       "</div>"
      ],
      "text/plain": [
       "    vru_plus_line  call_id  customer_id  priority type        date  \\\n",
       "211        AA0101    34752          0.0         1   NW  1999-02-03   \n",
       "371        AA0101    34912          0.0         1   NW  1999-02-07   \n",
       "401        AA0101    34942          0.0         1   NW  1999-02-07   \n",
       "621        AA0101    35163          0.0         1   NW  1999-02-10   \n",
       "694        AA0101    35238   69687275.0         2   NE  1999-02-11   \n",
       "\n",
       "          vru_entry        vru_exit         q_start          q_exit outcome  \\\n",
       "211 0 days 14:08:10 0 days 14:08:19 0 days 14:08:19 0 days 14:14:18   AGENT   \n",
       "371 0 days 08:51:00 0 days 08:51:09 0 days 08:51:09 0 days 08:58:27   AGENT   \n",
       "401 0 days 13:57:02 0 days 13:57:12 0 days 13:57:12 0 days 14:02:34    HANG   \n",
       "621 0 days 11:18:23 0 days 11:18:32 0 days 11:18:32 0 days 11:23:50   AGENT   \n",
       "694 0 days 10:03:00 0 days 10:03:05 0 days 10:03:05 0 days 10:09:03   AGENT   \n",
       "\n",
       "          ser_start        ser_exit     server        vru_time  \\\n",
       "211 0 days 14:14:17 0 days 14:16:44       IDIT 0 days 00:00:09   \n",
       "371 0 days 08:58:26 0 days 09:00:40       AVNI 0 days 00:00:09   \n",
       "401 0 days 00:00:00 0 days 00:00:00  NO_SERVER 0 days 00:00:10   \n",
       "621 0 days 11:23:49 0 days 11:24:38      YIFAT 0 days 00:00:09   \n",
       "694 0 days 10:09:02 0 days 10:14:49       AVNI 0 days 00:00:05   \n",
       "\n",
       "             q_time        ser_time  \n",
       "211 0 days 00:05:59 0 days 00:02:27  \n",
       "371 0 days 00:07:18 0 days 00:02:14  \n",
       "401 0 days 00:05:22 0 days 00:00:00  \n",
       "621 0 days 00:05:18 0 days 00:00:49  \n",
       "694 0 days 00:05:58 0 days 00:05:47  "
      ]
     },
     "execution_count": 85,
     "metadata": {},
     "output_type": "execute_result"
    }
   ],
   "source": [
    "q_df3=df[(df['q_time'] > '0 days 00:05:00')]\n",
    "q_df3.head()"
   ]
  },
  {
   "cell_type": "code",
   "execution_count": 86,
   "id": "2d26c431",
   "metadata": {},
   "outputs": [
    {
     "data": {
      "text/plain": [
       "(384, 17)"
      ]
     },
     "execution_count": 86,
     "metadata": {},
     "output_type": "execute_result"
    }
   ],
   "source": [
    "q_df3.shape"
   ]
  },
  {
   "cell_type": "code",
   "execution_count": 87,
   "id": "aa696438",
   "metadata": {
    "scrolled": false
   },
   "outputs": [
    {
     "data": {
      "text/plain": [
       "Timedelta('1 days 16:13:28')"
      ]
     },
     "execution_count": 87,
     "metadata": {},
     "output_type": "execute_result"
    }
   ],
   "source": [
    "q_df3['q_time'].sum()"
   ]
  },
  {
   "cell_type": "code",
   "execution_count": 88,
   "id": "197715d3",
   "metadata": {},
   "outputs": [
    {
     "name": "stdout",
     "output_type": "stream",
     "text": [
      "days_total_minutes: 1440\n",
      "hours_minutes: 960\n",
      "total_minutes: 2413\n",
      "q penalty 0.5 per minutes for q_time > 1 and < 3 minutes: 4826\n"
     ]
    }
   ],
   "source": [
    "days=1\n",
    "hours=16\n",
    "minutes=13\n",
    "days_total_minutes=days*24*60\n",
    "print(\"days_total_minutes:\",days_total_minutes)\n",
    "hours_minutes=hours*60\n",
    "print(\"hours_minutes:\",hours_minutes)\n",
    "total_minutes=days_total_minutes+hours_minutes+minutes\n",
    "print(\"total_minutes:\",total_minutes)\n",
    "print(\"q penalty 0.5 per minutes for q_time > 1 and < 3 minutes:\",total_minutes * 2)"
   ]
  },
  {
   "cell_type": "code",
   "execution_count": 89,
   "id": "fb5067cc",
   "metadata": {},
   "outputs": [
    {
     "name": "stdout",
     "output_type": "stream",
     "text": [
      "Total_q_penalty: 15569\n"
     ]
    }
   ],
   "source": [
    "# total_q_penalty (Addition of all charges)\n",
    "Total_q_penalty = 5358+5385+4826\n",
    "print('Total_q_penalty:', Total_q_penalty)"
   ]
  },
  {
   "cell_type": "markdown",
   "id": "cade8c73",
   "metadata": {},
   "source": [
    "### call_disconnection penalty"
   ]
  },
  {
   "cell_type": "markdown",
   "id": "0ea2d5d0",
   "metadata": {},
   "source": [
    "Every customer that hangs up the call/ disconnects the call due to non-availability of agents is charged at EUR 10/ instance. These can be found by the calls where outcome is “AGENT” and server is “NO-SERVER”."
   ]
  },
  {
   "cell_type": "code",
   "execution_count": 90,
   "id": "cae26d7e",
   "metadata": {},
   "outputs": [],
   "source": [
    "cd_penalty_df=df[(df['outcome'] == 'AGENT') & (df['server']== 'NO_SERVER')]"
   ]
  },
  {
   "cell_type": "code",
   "execution_count": 91,
   "id": "b5c678cf",
   "metadata": {},
   "outputs": [
    {
     "data": {
      "text/html": [
       "<div>\n",
       "<style scoped>\n",
       "    .dataframe tbody tr th:only-of-type {\n",
       "        vertical-align: middle;\n",
       "    }\n",
       "\n",
       "    .dataframe tbody tr th {\n",
       "        vertical-align: top;\n",
       "    }\n",
       "\n",
       "    .dataframe thead th {\n",
       "        text-align: right;\n",
       "    }\n",
       "</style>\n",
       "<table border=\"1\" class=\"dataframe\">\n",
       "  <thead>\n",
       "    <tr style=\"text-align: right;\">\n",
       "      <th></th>\n",
       "      <th>vru_plus_line</th>\n",
       "      <th>call_id</th>\n",
       "      <th>customer_id</th>\n",
       "      <th>priority</th>\n",
       "      <th>type</th>\n",
       "      <th>date</th>\n",
       "      <th>vru_entry</th>\n",
       "      <th>vru_exit</th>\n",
       "      <th>q_start</th>\n",
       "      <th>q_exit</th>\n",
       "      <th>outcome</th>\n",
       "      <th>ser_start</th>\n",
       "      <th>ser_exit</th>\n",
       "      <th>server</th>\n",
       "      <th>vru_time</th>\n",
       "      <th>q_time</th>\n",
       "      <th>ser_time</th>\n",
       "    </tr>\n",
       "  </thead>\n",
       "  <tbody>\n",
       "    <tr>\n",
       "      <th>1</th>\n",
       "      <td>AA0101</td>\n",
       "      <td>34537</td>\n",
       "      <td>0.0</td>\n",
       "      <td>1</td>\n",
       "      <td>PS</td>\n",
       "      <td>1999-02-01</td>\n",
       "      <td>0 days 07:31:45</td>\n",
       "      <td>0 days 07:31:55</td>\n",
       "      <td>0 days</td>\n",
       "      <td>0 days</td>\n",
       "      <td>AGENT</td>\n",
       "      <td>0 days 07:31:54</td>\n",
       "      <td>0 days 07:31:59</td>\n",
       "      <td>NO_SERVER</td>\n",
       "      <td>0 days 00:00:10</td>\n",
       "      <td>0 days</td>\n",
       "      <td>0 days 00:00:05</td>\n",
       "    </tr>\n",
       "    <tr>\n",
       "      <th>36</th>\n",
       "      <td>AA0101</td>\n",
       "      <td>34572</td>\n",
       "      <td>0.0</td>\n",
       "      <td>1</td>\n",
       "      <td>PS</td>\n",
       "      <td>1999-02-01</td>\n",
       "      <td>0 days 14:12:55</td>\n",
       "      <td>0 days 14:13:03</td>\n",
       "      <td>0 days</td>\n",
       "      <td>0 days</td>\n",
       "      <td>AGENT</td>\n",
       "      <td>0 days 14:13:03</td>\n",
       "      <td>0 days 14:13:08</td>\n",
       "      <td>NO_SERVER</td>\n",
       "      <td>0 days 00:00:08</td>\n",
       "      <td>0 days</td>\n",
       "      <td>0 days 00:00:05</td>\n",
       "    </tr>\n",
       "  </tbody>\n",
       "</table>\n",
       "</div>"
      ],
      "text/plain": [
       "   vru_plus_line  call_id  customer_id  priority type        date  \\\n",
       "1         AA0101    34537          0.0         1   PS  1999-02-01   \n",
       "36        AA0101    34572          0.0         1   PS  1999-02-01   \n",
       "\n",
       "         vru_entry        vru_exit q_start q_exit outcome       ser_start  \\\n",
       "1  0 days 07:31:45 0 days 07:31:55  0 days 0 days   AGENT 0 days 07:31:54   \n",
       "36 0 days 14:12:55 0 days 14:13:03  0 days 0 days   AGENT 0 days 14:13:03   \n",
       "\n",
       "          ser_exit     server        vru_time q_time        ser_time  \n",
       "1  0 days 07:31:59  NO_SERVER 0 days 00:00:10 0 days 0 days 00:00:05  \n",
       "36 0 days 14:13:08  NO_SERVER 0 days 00:00:08 0 days 0 days 00:00:05  "
      ]
     },
     "execution_count": 91,
     "metadata": {},
     "output_type": "execute_result"
    }
   ],
   "source": [
    "cd_penalty_df.head(2)"
   ]
  },
  {
   "cell_type": "code",
   "execution_count": 92,
   "id": "c4cafff3",
   "metadata": {},
   "outputs": [
    {
     "data": {
      "text/plain": [
       "(491, 17)"
      ]
     },
     "execution_count": 92,
     "metadata": {},
     "output_type": "execute_result"
    }
   ],
   "source": [
    "cd_penalty_df.shape"
   ]
  },
  {
   "cell_type": "code",
   "execution_count": 93,
   "id": "daeadd93",
   "metadata": {},
   "outputs": [
    {
     "name": "stdout",
     "output_type": "stream",
     "text": [
      "cd_penalty1: 4910\n"
     ]
    }
   ],
   "source": [
    "cd_penalty1=491*10\n",
    "print(\"cd_penalty1:\",cd_penalty1)"
   ]
  },
  {
   "cell_type": "markdown",
   "id": "723393da",
   "metadata": {},
   "source": [
    "If the outcome is “HANG” and server is “NO-SERVER”, the penalty is applied at EUR 5/ instance. These charges are over and above the queue time."
   ]
  },
  {
   "cell_type": "code",
   "execution_count": 94,
   "id": "3657f899",
   "metadata": {},
   "outputs": [],
   "source": [
    "cd_penalty_df2=df[(df['outcome'] == 'HANG') & (df['server']== 'NO_SERVER')]"
   ]
  },
  {
   "cell_type": "code",
   "execution_count": 95,
   "id": "baa04d79",
   "metadata": {},
   "outputs": [
    {
     "data": {
      "text/html": [
       "<div>\n",
       "<style scoped>\n",
       "    .dataframe tbody tr th:only-of-type {\n",
       "        vertical-align: middle;\n",
       "    }\n",
       "\n",
       "    .dataframe tbody tr th {\n",
       "        vertical-align: top;\n",
       "    }\n",
       "\n",
       "    .dataframe thead th {\n",
       "        text-align: right;\n",
       "    }\n",
       "</style>\n",
       "<table border=\"1\" class=\"dataframe\">\n",
       "  <thead>\n",
       "    <tr style=\"text-align: right;\">\n",
       "      <th></th>\n",
       "      <th>vru_plus_line</th>\n",
       "      <th>call_id</th>\n",
       "      <th>customer_id</th>\n",
       "      <th>priority</th>\n",
       "      <th>type</th>\n",
       "      <th>date</th>\n",
       "      <th>vru_entry</th>\n",
       "      <th>vru_exit</th>\n",
       "      <th>q_start</th>\n",
       "      <th>q_exit</th>\n",
       "      <th>outcome</th>\n",
       "      <th>ser_start</th>\n",
       "      <th>ser_exit</th>\n",
       "      <th>server</th>\n",
       "      <th>vru_time</th>\n",
       "      <th>q_time</th>\n",
       "      <th>ser_time</th>\n",
       "    </tr>\n",
       "  </thead>\n",
       "  <tbody>\n",
       "    <tr>\n",
       "      <th>3</th>\n",
       "      <td>AA0101</td>\n",
       "      <td>34539</td>\n",
       "      <td>23317894.0</td>\n",
       "      <td>2</td>\n",
       "      <td>PS</td>\n",
       "      <td>1999-02-01</td>\n",
       "      <td>0 days 08:09:16</td>\n",
       "      <td>0 days 08:09:22</td>\n",
       "      <td>0 days 08:09:22</td>\n",
       "      <td>0 days 08:09:27</td>\n",
       "      <td>HANG</td>\n",
       "      <td>0 days</td>\n",
       "      <td>0 days</td>\n",
       "      <td>NO_SERVER</td>\n",
       "      <td>0 days 00:00:06</td>\n",
       "      <td>0 days 00:00:05</td>\n",
       "      <td>0 days</td>\n",
       "    </tr>\n",
       "    <tr>\n",
       "      <th>14</th>\n",
       "      <td>AA0101</td>\n",
       "      <td>34550</td>\n",
       "      <td>27849181.0</td>\n",
       "      <td>1</td>\n",
       "      <td>PS</td>\n",
       "      <td>1999-02-01</td>\n",
       "      <td>0 days 09:57:59</td>\n",
       "      <td>0 days 09:58:05</td>\n",
       "      <td>0 days 09:58:05</td>\n",
       "      <td>0 days 09:58:13</td>\n",
       "      <td>HANG</td>\n",
       "      <td>0 days</td>\n",
       "      <td>0 days</td>\n",
       "      <td>NO_SERVER</td>\n",
       "      <td>0 days 00:00:06</td>\n",
       "      <td>0 days 00:00:08</td>\n",
       "      <td>0 days</td>\n",
       "    </tr>\n",
       "  </tbody>\n",
       "</table>\n",
       "</div>"
      ],
      "text/plain": [
       "   vru_plus_line  call_id  customer_id  priority type        date  \\\n",
       "3         AA0101    34539   23317894.0         2   PS  1999-02-01   \n",
       "14        AA0101    34550   27849181.0         1   PS  1999-02-01   \n",
       "\n",
       "         vru_entry        vru_exit         q_start          q_exit outcome  \\\n",
       "3  0 days 08:09:16 0 days 08:09:22 0 days 08:09:22 0 days 08:09:27    HANG   \n",
       "14 0 days 09:57:59 0 days 09:58:05 0 days 09:58:05 0 days 09:58:13    HANG   \n",
       "\n",
       "   ser_start ser_exit     server        vru_time          q_time ser_time  \n",
       "3     0 days   0 days  NO_SERVER 0 days 00:00:06 0 days 00:00:05   0 days  \n",
       "14    0 days   0 days  NO_SERVER 0 days 00:00:06 0 days 00:00:08   0 days  "
      ]
     },
     "execution_count": 95,
     "metadata": {},
     "output_type": "execute_result"
    }
   ],
   "source": [
    "cd_penalty_df2.head(2)"
   ]
  },
  {
   "cell_type": "code",
   "execution_count": 96,
   "id": "dc577ce4",
   "metadata": {},
   "outputs": [
    {
     "data": {
      "text/plain": [
       "(5904, 17)"
      ]
     },
     "execution_count": 96,
     "metadata": {},
     "output_type": "execute_result"
    }
   ],
   "source": [
    "cd_penalty_df2.shape"
   ]
  },
  {
   "cell_type": "code",
   "execution_count": 97,
   "id": "12d9e860",
   "metadata": {},
   "outputs": [
    {
     "name": "stdout",
     "output_type": "stream",
     "text": [
      "cd_penalty2: 29520\n"
     ]
    }
   ],
   "source": [
    "cd_penalty2=5904*5\n",
    "print(\"cd_penalty2:\",cd_penalty2)"
   ]
  },
  {
   "cell_type": "code",
   "execution_count": 98,
   "id": "85852d9e",
   "metadata": {},
   "outputs": [
    {
     "name": "stdout",
     "output_type": "stream",
     "text": [
      "Total_cd_penalty: 34430\n"
     ]
    }
   ],
   "source": [
    "Total_cd_penalty=cd_penalty1 + cd_penalty2\n",
    "print(\"Total_cd_penalty:\",Total_cd_penalty)"
   ]
  },
  {
   "cell_type": "markdown",
   "id": "2a8e9a91",
   "metadata": {},
   "source": [
    "### SCHEDULE OF PAYMENT TO CALLIN PLC "
   ]
  },
  {
   "cell_type": "code",
   "execution_count": 99,
   "id": "00f21365",
   "metadata": {},
   "outputs": [],
   "source": [
    "Fixed_fee = 1000000.00\n",
    "TP_usage = 200000.00\n",
    "Total_fixed_billing = Fixed_fee + TP_usage\n",
    "Total_variable_billing = vru_charges + total_ser_charge\n",
    "TOTAL_BILLED_AMOUNT = Total_fixed_billing + Total_variable_billing\n",
    "Total_penalty = Total_q_penalty + Total_cd_penalty\n",
    "Total_payable = TOTAL_BILLED_AMOUNT - Total_penalty"
   ]
  },
  {
   "cell_type": "code",
   "execution_count": 100,
   "id": "159d3e44",
   "metadata": {},
   "outputs": [
    {
     "name": "stdout",
     "output_type": "stream",
     "text": [
      "   SCHEDULE OF PAYMENT TO CALLIN PLC    \n",
      "========================================\n",
      "Particulars             AMOUNT in (EUR) \n",
      "========================================\n",
      "Fixed fee              : EUR 1000000.0\n",
      "TP usage               : EUR  200000.0\n",
      "========================================\n",
      "TOTAL FIXED BILLING    : EUR 1200000.0\n",
      "========================================\n",
      "vru charge             : EUR  114453.5\n",
      "ST charge              : EUR 1930617.0\n",
      "========================================\n",
      "Total variable billing : EUR 2045070.5\n",
      "----------------------------------------\n",
      "TOTAL BILLED AMOUNT    : EUR 3245070.5\n",
      "========================================\n",
      "q_penalty              : EUR   15569\n",
      "cd_penalty             : EUR   34430\n",
      "========================================\n",
      "TOTAL PENALTY          : EUR   49999\n",
      "----------------------------------------\n",
      "TOTAL PAYABLE          : EUR 3195071.5\n",
      "========================================\n"
     ]
    }
   ],
   "source": [
    "print(\"   SCHEDULE OF PAYMENT TO CALLIN PLC    \")\n",
    "print(\"========================================\")\n",
    "print(\"Particulars             AMOUNT in (EUR) \")\n",
    "print(\"========================================\")\n",
    "print(\"Fixed fee              : EUR\", Fixed_fee)\n",
    "print(\"TP usage               : EUR \", TP_usage)\n",
    "print(\"========================================\")\n",
    "print(\"TOTAL FIXED BILLING    : EUR\", Total_fixed_billing)\n",
    "print(\"========================================\")\n",
    "print(\"vru charge             : EUR \", vru_charges)\n",
    "print(\"ST charge              : EUR\", total_ser_charge)\n",
    "print(\"========================================\")\n",
    "print(\"Total variable billing : EUR\", Total_variable_billing)\n",
    "print(\"----------------------------------------\")\n",
    "print(\"TOTAL BILLED AMOUNT    : EUR\", TOTAL_BILLED_AMOUNT )\n",
    "print(\"========================================\")\n",
    "print(\"q_penalty              : EUR  \", Total_q_penalty)\n",
    "print(\"cd_penalty             : EUR  \", Total_cd_penalty)\n",
    "print(\"========================================\")\n",
    "print(\"TOTAL PENALTY          : EUR  \", Total_penalty)\n",
    "print(\"----------------------------------------\")\n",
    "print(\"TOTAL PAYABLE          : EUR\", Total_payable)\n",
    "print(\"========================================\")"
   ]
  },
  {
   "cell_type": "markdown",
   "id": "068a3c90",
   "metadata": {},
   "source": [
    "This is the correct payout "
   ]
  },
  {
   "cell_type": "code",
   "execution_count": null,
   "id": "bf47a973",
   "metadata": {},
   "outputs": [],
   "source": [
    "we get to know that the payout done to callin PLC by RBS was incorrect and state exchequer cheated."
   ]
  }
 ],
 "metadata": {
  "kernelspec": {
   "display_name": "Python 3 (ipykernel)",
   "language": "python",
   "name": "python3"
  },
  "language_info": {
   "codemirror_mode": {
    "name": "ipython",
    "version": 3
   },
   "file_extension": ".py",
   "mimetype": "text/x-python",
   "name": "python",
   "nbconvert_exporter": "python",
   "pygments_lexer": "ipython3",
   "version": "3.9.12"
  }
 },
 "nbformat": 4,
 "nbformat_minor": 5
}
